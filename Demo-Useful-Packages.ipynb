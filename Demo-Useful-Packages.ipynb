{
 "cells": [
  {
   "cell_type": "markdown",
   "metadata": {},
   "source": [
    "---\n",
    "\n",
    "<img src=\"./images/anchormen-logo.png\" width=\"500\">\n",
    "\n",
    "---\n",
    "\n",
    "\n",
    "# Geopandas Examples & Useful Libraries\n",
    "\n",
    "In this extra notebook we look at:\n",
    "\n",
    "- Calculating **distances** between objects\n",
    "- A spatial data manipulation & visualization **example** using a public shapefile of waterways in Then Netherlands\n",
    "- The osmxtract library as a good **API for OpenStreetMap** data\n",
    "- **Folium** as an alternative library for spatial visualization\n",
    "- **Plotly** as alternative library"
   ]
  },
  {
   "cell_type": "markdown",
   "metadata": {
    "heading_collapsed": true,
    "slideshow": {
     "slide_type": "slide"
    }
   },
   "source": [
    "## Libraries"
   ]
  },
  {
   "cell_type": "code",
   "execution_count": null,
   "metadata": {
    "ExecuteTime": {
     "end_time": "2019-09-13T13:40:16.127861Z",
     "start_time": "2019-09-13T13:40:15.726286Z"
    },
    "hidden": true,
    "slideshow": {
     "slide_type": "-"
    }
   },
   "outputs": [],
   "source": [
    "import matplotlib.pyplot as plt\n",
    "import pandas as pd\n",
    "import geopandas as gpd\n",
    "from geopandas import GeoDataFrame, GeoSeries\n",
    "from shapely.geometry import Point, LineString, Polygon\n",
    "import matplotlib.pyplot as plt\n",
    "\n",
    "%matplotlib inline\n",
    "pd.options.mode.chained_assignment = None"
   ]
  },
  {
   "cell_type": "markdown",
   "metadata": {
    "heading_collapsed": true
   },
   "source": [
    "## Calculating Distances"
   ]
  },
  {
   "cell_type": "markdown",
   "metadata": {
    "hidden": true
   },
   "source": [
    "### Example"
   ]
  },
  {
   "cell_type": "code",
   "execution_count": null,
   "metadata": {
    "ExecuteTime": {
     "end_time": "2019-09-13T13:09:03.450446Z",
     "start_time": "2019-09-13T13:09:03.442906Z"
    },
    "hidden": true
   },
   "outputs": [],
   "source": [
    "point1 = Point(1.92, 0.47)\n",
    "point2 = Point(1.33, 1.48)\n",
    "line1 = LineString([(0.3, 0.6), (1.5, 1.6), (0.9, 2.5)])\n",
    "line2 = LineString([(0.8, 0.5), (0.5, 1.0), (0.8, 2.1), (1.3, 1.1)])\n",
    "polygon1 = Polygon([[0, 0], [1, 0], [1, 1], [0, 1]])\n",
    "\n",
    "print(\"Point to point: {}\".format(\n",
    "    point1.distance(point2)))\n",
    "\n",
    "print(\"Line to point: {}\".format(\n",
    "    line1.distance(point1)))\n",
    "\n",
    "print(\"Line to line: {}\".format(\n",
    "    line1.distance(line2)))\n",
    "\n",
    "print(\"Polygon to point: {}\".format(\n",
    "    polygon1.distance(point2)))"
   ]
  },
  {
   "cell_type": "markdown",
   "metadata": {
    "hidden": true
   },
   "source": [
    "### Application: given car location, find nearest road"
   ]
  },
  {
   "cell_type": "code",
   "execution_count": null,
   "metadata": {
    "ExecuteTime": {
     "end_time": "2019-09-13T13:09:03.462528Z",
     "start_time": "2019-09-13T13:09:03.453273Z"
    },
    "code_folding": [
     0
    ],
    "hidden": true
   },
   "outputs": [],
   "source": [
    "# Functions\n",
    "\n",
    "\"\"\"\n",
    "Determine nearest road from Point 'location' and GeoDataFrame 'roads'\n",
    "\"\"\"\n",
    "def get_nearest_road(roads: GeoDataFrame, location: Point) -> str:\n",
    "    # Calculate distances of roads to location, select road with minimum distance and retrieve its name\n",
    "    nearestroad = roads.loc[roads.distance(location).idxmin()]['ROUTE']\n",
    "    \n",
    "    return(nearestroad)\n",
    "\n",
    "\n",
    "\"\"\"\n",
    "Get nearest road from GeoSeries of Point 'locations' and GeoDataFrame 'roads'\n",
    "\"\"\"\n",
    "def get_nearest_roads(roads: GeoDataFrame, locations: GeoSeries) -> list:\n",
    "    nearestroads = [get_nearest_road(roads, location) for location in locations]\n",
    "    \n",
    "    return(nearestroads)\n",
    "\n",
    "\n",
    "\"\"\"\n",
    "Plot GeoDataFrame with 'roads' plus GeoSeries with Point 'locations'\n",
    "\"\"\"\n",
    "def plot_roads_cars(roads: GeoDataFrame, locations: GeoSeries):\n",
    "    fig, ax = plt.subplots(figsize=(10,10), subplot_kw={'aspect':'equal'})\n",
    "    ax.set_axis_off()\n",
    "    roads.plot(ax=ax);\n",
    "    locations.plot(ax=ax, color='red')\n",
    "\n",
    "\n",
    "\"\"\"\n",
    "Plot GeoDataFrame with 'roads' plus GeoSeries with Point 'locations'\n",
    "and optionally highlight nearest roads\n",
    "\"\"\"\n",
    "def plot_roads_cars(roads: GeoDataFrame, locations: GeoSeries, display_nearest: bool=True):\n",
    "    # Plot settings\n",
    "    fig, ax = plt.subplots(figsize=(10,10), subplot_kw={'aspect':'equal'})\n",
    "    ax.set_axis_off()\n",
    "    \n",
    "    # Visualize roads and car locations\n",
    "    roads.plot(ax=ax, linewidth=.6);\n",
    "    locations.plot(ax=ax, color='red')\n",
    "    \n",
    "    # Calculate nearest roads and visualize (if display_nearest True)\n",
    "    if(display_nearest):\n",
    "        ax.set_title('Car locations and nearest roads', size = 16)\n",
    "        nearest_road_names = get_nearest_roads(roads, locations)\n",
    "        nearest_roads = roads[roads['ROUTE'].isin(nearest_road_names)]\n",
    "        nearest_roads.plot(ax=ax, color='red')\n",
    "    else:\n",
    "        ax.set_title('Car locations', size = 16)"
   ]
  },
  {
   "cell_type": "code",
   "execution_count": null,
   "metadata": {
    "ExecuteTime": {
     "end_time": "2019-09-13T13:09:04.090787Z",
     "start_time": "2019-09-13T13:09:03.464961Z"
    },
    "code_folding": [],
    "hidden": true
   },
   "outputs": [],
   "source": [
    "# Read roads shapefile\n",
    "\n",
    "# Shapefile manually downloaded from:\n",
    "# https://www.rijkswaterstaat.nl/apps/geoservices/geodata/dmc/nwb-wegen/geogegevens/shapefile/NWB-light/\n",
    "roads_shapefile = './geodata/NWB-Light/nwb-light.shp'\n",
    "\n",
    "# Standard longitude/latitude coordinate reference system\n",
    "coordinate_system = 'epsg:4326'\n",
    "\n",
    "# Load roads shapefile and transform coordinate system\n",
    "roads = gpd.read_file(roads_shapefile) \\\n",
    "               .to_crs({'init': coordinate_system})"
   ]
  },
  {
   "cell_type": "code",
   "execution_count": null,
   "metadata": {
    "ExecuteTime": {
     "end_time": "2019-09-13T13:09:04.095487Z",
     "start_time": "2019-09-13T13:09:04.092171Z"
    },
    "code_folding": [],
    "hidden": true
   },
   "outputs": [],
   "source": [
    "# Define car locations\n",
    "car_locations = gpd.GeoSeries([Point(5.009344, 52.138613), Point(5.165653, 52.98645), Point(6.338036, 52.43607)])"
   ]
  },
  {
   "cell_type": "code",
   "execution_count": null,
   "metadata": {
    "ExecuteTime": {
     "end_time": "2019-09-13T13:09:04.136449Z",
     "start_time": "2019-09-13T13:09:04.097231Z"
    },
    "hidden": true
   },
   "outputs": [],
   "source": [
    "# Get nearest roads for multiple points\n",
    "get_nearest_roads(roads, car_locations)"
   ]
  },
  {
   "cell_type": "code",
   "execution_count": null,
   "metadata": {
    "ExecuteTime": {
     "end_time": "2019-09-13T13:09:04.546342Z",
     "start_time": "2019-09-13T13:09:04.137733Z"
    },
    "hidden": true
   },
   "outputs": [],
   "source": [
    "# Visualize\n",
    "plot_roads_cars(roads, car_locations, display_nearest=True)"
   ]
  },
  {
   "cell_type": "markdown",
   "metadata": {
    "heading_collapsed": true
   },
   "source": [
    "## Example: Waterways in The Netherlands"
   ]
  },
  {
   "cell_type": "markdown",
   "metadata": {
    "hidden": true
   },
   "source": [
    "Data Source: Rijkswaterstaat (https://www.rijkswaterstaat.nl/apps/geoservices/geodata/dmc/nwb-vaarwegen/geogegevens/shapefile/01-11-2018/Vaarwegvakken/)"
   ]
  },
  {
   "cell_type": "code",
   "execution_count": null,
   "metadata": {
    "ExecuteTime": {
     "end_time": "2019-09-13T13:09:05.907316Z",
     "start_time": "2019-09-13T13:09:04.579280Z"
    },
    "hidden": true
   },
   "outputs": [],
   "source": [
    "# Libraries\n",
    "import urllib\n",
    "import geopandas as gpd\n",
    "import matplotlib.pyplot as plt\n",
    "import mplleaflet\n",
    "\n",
    "# Shapefile location\n",
    "base_url = 'https://www.rijkswaterstaat.nl/apps/geoservices/geodata/dmc/nwb-vaarwegen/geogegevens/shapefile/01-11-2018/Vaarwegvakken/'\n",
    "file_list = ['Vaarwegvakken.shp', 'Vaarwegvakken.prj', 'Vaarwegvakken.shx', 'Vaarwegvakken.dbf']\n",
    "download_dir = './geodata/tmp/'\n",
    "\n",
    "# Download shapefile(s)\n",
    "for file in file_list:\n",
    "    urllib.request.urlretrieve(url = base_url+file, filename = download_dir + file)\n",
    "    \n",
    "# Load shape file and convert to basic coordinate system\n",
    "gdf = gpd.read_file(download_dir + file_list[0])\n",
    "gdf_converted = gdf.to_crs({'init': 'epsg:4326'})\n",
    "\n",
    "# Select coordinate subset using bounding box\n",
    "lon_min, lon_max = 4.7, 6.7\n",
    "lat_min, lat_max = 51.3, 52.7\n",
    "gdf_selection = gdf_converted.cx[lon_min : lon_max, lat_min : lat_max]"
   ]
  },
  {
   "cell_type": "code",
   "execution_count": null,
   "metadata": {
    "ExecuteTime": {
     "end_time": "2019-09-13T13:09:06.341915Z",
     "start_time": "2019-09-13T13:09:05.908712Z"
    },
    "hidden": true
   },
   "outputs": [],
   "source": [
    "# Mplleaflet visualization\n",
    "fig, ax = plt.subplots(figsize=(10,10), subplot_kw={'aspect':'equal'})\n",
    "plot = gdf_selection.plot(column='VAKTYPE', linewidth=2.0, ax=ax)\n",
    "mplleaflet.display(fig=plot.figure)"
   ]
  },
  {
   "cell_type": "markdown",
   "metadata": {
    "heading_collapsed": true
   },
   "source": [
    "## OpenStreetMap API"
   ]
  },
  {
   "cell_type": "markdown",
   "metadata": {
    "heading_collapsed": true,
    "hidden": true
   },
   "source": [
    "### geopandas_osm (slow)"
   ]
  },
  {
   "cell_type": "code",
   "execution_count": null,
   "metadata": {
    "ExecuteTime": {
     "end_time": "2019-09-13T13:09:02.430267Z",
     "start_time": "2019-09-13T13:09:02.427806Z"
    },
    "hidden": true
   },
   "outputs": [],
   "source": [
    "# # Install using: pip install git+https://github.com/jwass/geopandas_osm\n",
    "# import geopandas_osm.osm\n",
    "# from shapely.geometry import Polygon\n",
    "\n",
    "# # Manually define boundary\n",
    "# #boundary = Polygon([[52.0635223,5.1376253], [52.0675223,5.1376253], [52.0675223,5.1456253], [52.0635223,5.1456253]])\n",
    "\n",
    "# # Select (small) country\n",
    "# country = 'Trinidad and Tobago'\n",
    "# #country = 'Puerto Rico'\n",
    "# gdf_selected = gdf_countries[gdf_countries.name == country]\n",
    "# boundary = gdf_selected['geometry'].iloc[0]\n",
    "\n",
    "# # Download OSM data\n",
    "# gdf_osm = geopandas_osm.osm.query_osm('way', boundary, recurse='down', tags='highway')\n",
    "\n",
    "# # Selection\n",
    "# gdf_osm = gdf_osm[gdf_osm.type == 'LineString'][['highway', 'name', 'geometry']]\n",
    "# gdf_osm = gdf_osm[gdf_osm.highway.isin(['motorway', 'motorway_link', 'primary', 'primary_link', 'secondary', 'secondary_link'])]\n",
    "# #gdf_osm = gdf_osm[gdf_osm.highway.isin(['motorway', 'primary'])]\n",
    "\n",
    "# # Plot\n",
    "# fig, ax = plt.subplots(figsize=(16,16), subplot_kw={'aspect':'equal'})\n",
    "# gdf_selected.plot(color='green', ax=ax)\n",
    "# gdf_osm.plot(column='highway', legend=True, linewidth=2., ax=ax);"
   ]
  },
  {
   "cell_type": "markdown",
   "metadata": {
    "hidden": true
   },
   "source": [
    "### osmxtract (recommended)\n",
    "\n",
    "OSMxtract is a simple Python package that uses the Overpass API to fetch OpenStreetMap features and, optionally, export them in a GeoJSON file. See: https://pypi.org/project/osmxtract/"
   ]
  },
  {
   "cell_type": "code",
   "execution_count": null,
   "metadata": {
    "ExecuteTime": {
     "end_time": "2019-09-13T13:09:03.110989Z",
     "start_time": "2019-09-13T13:09:02.432315Z"
    },
    "hidden": true
   },
   "outputs": [],
   "source": [
    "from osmxtract import overpass, location\n",
    "import geopandas as gpd\n",
    "\n",
    "# Get bounding box coordinates from a 2km buffer around specific location\n",
    "lat, lon = location.geocode('Anchormen Amsterdam')\n",
    "bounds = location.from_buffer(lat, lon, buffer_size=2000)\n",
    "\n",
    "# Build an overpass QL query and get the JSON response\n",
    "query = overpass.ql_query(bounds, tag='amenity', values=['cafe', 'bar'])\n",
    "response = overpass.request(query)\n",
    "\n",
    "# Parse results as GeoJSON\n",
    "feature_collection = overpass.as_geojson(response, 'point')\n",
    "\n",
    "# To GeoPandas GeoDataFrame:\n",
    "geodataframe = gpd.GeoDataFrame.from_features(feature_collection)\n",
    "geodataframe.head()"
   ]
  },
  {
   "cell_type": "markdown",
   "metadata": {
    "heading_collapsed": true
   },
   "source": [
    "## Folium"
   ]
  },
  {
   "cell_type": "code",
   "execution_count": null,
   "metadata": {
    "ExecuteTime": {
     "end_time": "2019-09-13T13:09:03.419951Z",
     "start_time": "2019-09-13T13:09:03.112424Z"
    },
    "code_folding": [
     0
    ],
    "hidden": true
   },
   "outputs": [],
   "source": [
    "# Visualization functions\n",
    "import folium \n",
    "from folium import plugins\n",
    "\n",
    "def visualize_map(geodf):\n",
    "    \"\"\"Visualize lat/lon locations on map using Folium\"\"\"\n",
    "    \n",
    "    # Extract lat, lon (for Point geometries)\n",
    "    geodf['lon'] = geodf.geometry.x\n",
    "    geodf['lat'] = geodf.geometry.y\n",
    "\n",
    "    # Start lon/lat\n",
    "    center_latitude = geodf.lat.mean(skipna=True)\n",
    "    center_longitude = geodf.lon.mean(skipna=True)\n",
    "    \n",
    "    # Initialize map\n",
    "    map = folium.Map(location = [center_latitude, center_longitude], zoom_start = 12)\n",
    " \n",
    "    # Instantiate a mark cluster object for the locations in the dataframe\n",
    "    locations = plugins.MarkerCluster().add_to(map)\n",
    " \n",
    "    # Loop through the dataframe and add each data point to the mark cluster\n",
    "    for lat, lon, name, in zip(geodf.lat, geodf.lon, geodf.name):\n",
    "        \n",
    "        folium.Marker(\n",
    "            location=[lat, lon],\n",
    "            icon=None,\n",
    "            popup = folium.Popup(name),\n",
    "        ).add_to(locations)\n",
    "\n",
    "    # Display map\n",
    "    return(map)"
   ]
  },
  {
   "cell_type": "code",
   "execution_count": null,
   "metadata": {
    "ExecuteTime": {
     "end_time": "2019-09-13T13:09:03.441077Z",
     "start_time": "2019-09-13T13:09:03.421575Z"
    },
    "hidden": true
   },
   "outputs": [],
   "source": [
    "visualize_map(geodataframe)"
   ]
  },
  {
   "cell_type": "markdown",
   "metadata": {
    "heading_collapsed": true
   },
   "source": [
    "## Plotly Choropleth Map"
   ]
  },
  {
   "cell_type": "markdown",
   "metadata": {
    "hidden": true
   },
   "source": [
    "From https://plot.ly/python/mapbox-county-choropleth\n",
    "\n",
    "*Note: To plot on Mapbox maps with Plotly you may need a Mapbox account and a public Mapbox Access Token, depending on which features you are using.*"
   ]
  },
  {
   "cell_type": "code",
   "execution_count": null,
   "metadata": {
    "ExecuteTime": {
     "end_time": "2019-09-13T13:09:11.745067Z",
     "start_time": "2019-09-13T13:09:06.343309Z"
    },
    "hidden": true
   },
   "outputs": [],
   "source": [
    "from urllib.request import urlopen\n",
    "import json\n",
    "with urlopen('https://raw.githubusercontent.com/plotly/datasets/master/geojson-counties-fips.json') as response:\n",
    "    counties = json.load(response)\n",
    "\n",
    "import pandas as pd\n",
    "df = pd.read_csv(\"https://raw.githubusercontent.com/plotly/datasets/master/fips-unemp-16.csv\",\n",
    "                   dtype={\"fips\": str})\n",
    "\n",
    "import plotly.graph_objects as go\n",
    "\n",
    "fig = go.Figure(go.Choroplethmapbox(geojson=counties, locations=df.fips, z=df.unemp,\n",
    "                                    colorscale=\"Viridis\", zmin=0, zmax=12,\n",
    "                                    marker_opacity=0.5, marker_line_width=0))\n",
    "fig.update_layout(mapbox_style=\"carto-positron\",\n",
    "                  mapbox_zoom=3, mapbox_center = {\"lat\": 37.0902, \"lon\": -95.7129})\n",
    "fig.update_layout(margin={\"r\":0,\"t\":0,\"l\":0,\"b\":0})\n",
    "fig.show()"
   ]
  },
  {
   "cell_type": "markdown",
   "metadata": {
    "heading_collapsed": true
   },
   "source": [
    "## Spatial joins"
   ]
  },
  {
   "cell_type": "code",
   "execution_count": null,
   "metadata": {
    "ExecuteTime": {
     "end_time": "2019-09-13T13:40:32.662372Z",
     "start_time": "2019-09-13T13:40:32.659730Z"
    },
    "hidden": true
   },
   "outputs": [],
   "source": [
    "# On MacOSX, this will be needed in order to use the spatial join functionality\n",
    "#!brew install spatialindex\n",
    "#!pip install rtree"
   ]
  },
  {
   "cell_type": "code",
   "execution_count": null,
   "metadata": {
    "ExecuteTime": {
     "end_time": "2019-09-13T13:40:19.832206Z",
     "start_time": "2019-09-13T13:40:19.789827Z"
    },
    "hidden": true
   },
   "outputs": [],
   "source": [
    "# Load datasets\n",
    "countries = gpd.read_file(gpd.datasets.get_path('naturalearth_lowres')) \\\n",
    "    .rename({'name': 'country_name'}, axis=1)\n",
    "cities = gpd.read_file(gpd.datasets.get_path('naturalearth_cities')) \\\n",
    "    .rename({'name': 'city_name'}, axis=1)"
   ]
  },
  {
   "cell_type": "code",
   "execution_count": null,
   "metadata": {
    "ExecuteTime": {
     "end_time": "2019-09-13T14:16:20.734589Z",
     "start_time": "2019-09-13T14:16:20.725831Z"
    },
    "hidden": true
   },
   "outputs": [],
   "source": [
    "cities.head()"
   ]
  },
  {
   "cell_type": "code",
   "execution_count": null,
   "metadata": {
    "ExecuteTime": {
     "end_time": "2019-09-13T14:15:25.605205Z",
     "start_time": "2019-09-13T14:15:25.554600Z"
    },
    "hidden": true
   },
   "outputs": [],
   "source": [
    "# Spatial joins: Which points belong to which region?\n",
    "cities_with_country = gpd.sjoin(cities, countries, how=\"inner\", op='intersects')\n",
    "cities_with_country.query('country_name == \"Italy\"')"
   ]
  }
 ],
 "metadata": {
  "hide_input": false,
  "kernelspec": {
   "display_name": "Python 3",
   "language": "python",
   "name": "python3"
  },
  "language_info": {
   "codemirror_mode": {
    "name": "ipython",
    "version": 3
   },
   "file_extension": ".py",
   "mimetype": "text/x-python",
   "name": "python",
   "nbconvert_exporter": "python",
   "pygments_lexer": "ipython3",
   "version": "3.7.3"
  },
  "varInspector": {
   "cols": {
    "lenName": 16,
    "lenType": 16,
    "lenVar": 40
   },
   "kernels_config": {
    "python": {
     "delete_cmd_postfix": "",
     "delete_cmd_prefix": "del ",
     "library": "var_list.py",
     "varRefreshCmd": "print(var_dic_list())"
    },
    "r": {
     "delete_cmd_postfix": ") ",
     "delete_cmd_prefix": "rm(",
     "library": "var_list.r",
     "varRefreshCmd": "cat(var_dic_list()) "
    }
   },
   "types_to_exclude": [
    "module",
    "function",
    "builtin_function_or_method",
    "instance",
    "_Feature"
   ],
   "window_display": false
  }
 },
 "nbformat": 4,
 "nbformat_minor": 1
}
