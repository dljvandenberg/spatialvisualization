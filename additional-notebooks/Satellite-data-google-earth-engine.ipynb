{
 "cells": [
  {
   "cell_type": "markdown",
   "metadata": {},
   "source": [
    "---\n",
    "\n",
    "<img src=\"../images/anchormen-logo.png\" width=\"500\">\n",
    "\n",
    "---\n",
    "\n",
    "\n",
    "# Retrieving Satellite Data using Google Earth Engine\n",
    "\n",
    "Some explorations by Dennis van den Berg, February 2019"
   ]
  },
  {
   "cell_type": "markdown",
   "metadata": {
    "toc": true
   },
   "source": [
    "<h1>Table of Contents<span class=\"tocSkip\"></span></h1>\n",
    "<div class=\"toc\"><ul class=\"toc-item\"><li><span><a href=\"#Introduction:-Google-Earth-Engine\" data-toc-modified-id=\"Introduction:-Google-Earth-Engine-1\"><span class=\"toc-item-num\">1&nbsp;&nbsp;</span>Introduction: Google Earth Engine</a></span></li><li><span><a href=\"#Getting-started\" data-toc-modified-id=\"Getting-started-2\"><span class=\"toc-item-num\">2&nbsp;&nbsp;</span>Getting started</a></span></li><li><span><a href=\"#Libraries\" data-toc-modified-id=\"Libraries-3\"><span class=\"toc-item-num\">3&nbsp;&nbsp;</span>Libraries</a></span></li><li><span><a href=\"#Satellite-Images\" data-toc-modified-id=\"Satellite-Images-4\"><span class=\"toc-item-num\">4&nbsp;&nbsp;</span>Satellite Images</a></span><ul class=\"toc-item\"><li><span><a href=\"#Example:-Elevation\" data-toc-modified-id=\"Example:-Elevation-4.1\"><span class=\"toc-item-num\">4.1&nbsp;&nbsp;</span>Example: Elevation</a></span></li><li><span><a href=\"#Example:-Accessibility-to-cities\" data-toc-modified-id=\"Example:-Accessibility-to-cities-4.2\"><span class=\"toc-item-num\">4.2&nbsp;&nbsp;</span>Example: Accessibility to cities</a></span></li></ul></li><li><span><a href=\"#Image-Collections\" data-toc-modified-id=\"Image-Collections-5\"><span class=\"toc-item-num\">5&nbsp;&nbsp;</span>Image Collections</a></span><ul class=\"toc-item\"><li><span><a href=\"#Example:-Rainfall\" data-toc-modified-id=\"Example:-Rainfall-5.1\"><span class=\"toc-item-num\">5.1&nbsp;&nbsp;</span>Example: Rainfall</a></span></li><li><span><a href=\"#Interesting-Image-Collections\" data-toc-modified-id=\"Interesting-Image-Collections-5.2\"><span class=\"toc-item-num\">5.2&nbsp;&nbsp;</span>Interesting Image Collections</a></span></li></ul></li><li><span><a href=\"#Shape-files,-Fusion-Tables-&amp;-Feature-Collections\" data-toc-modified-id=\"Shape-files,-Fusion-Tables-&amp;-Feature-Collections-6\"><span class=\"toc-item-num\">6&nbsp;&nbsp;</span>Shape files, Fusion Tables &amp; Feature Collections</a></span><ul class=\"toc-item\"><li><span><a href=\"#Shapefiles\" data-toc-modified-id=\"Shapefiles-6.1\"><span class=\"toc-item-num\">6.1&nbsp;&nbsp;</span>Shapefiles</a></span></li><li><span><a href=\"#Fusion-Tables\" data-toc-modified-id=\"Fusion-Tables-6.2\"><span class=\"toc-item-num\">6.2&nbsp;&nbsp;</span>Fusion Tables</a></span></li><li><span><a href=\"#Feature-Collections\" data-toc-modified-id=\"Feature-Collections-6.3\"><span class=\"toc-item-num\">6.3&nbsp;&nbsp;</span>Feature Collections</a></span></li><li><span><a href=\"#This-example\" data-toc-modified-id=\"This-example-6.4\"><span class=\"toc-item-num\">6.4&nbsp;&nbsp;</span>This example</a></span></li></ul></li><li><span><a href=\"#Aggregated-statistics-per-region\" data-toc-modified-id=\"Aggregated-statistics-per-region-7\"><span class=\"toc-item-num\">7&nbsp;&nbsp;</span>Aggregated statistics per region</a></span></li><li><span><a href=\"#Visualization-using-geopandas\" data-toc-modified-id=\"Visualization-using-geopandas-8\"><span class=\"toc-item-num\">8&nbsp;&nbsp;</span>Visualization using geopandas</a></span></li><li><span><a href=\"#Conclusion\" data-toc-modified-id=\"Conclusion-9\"><span class=\"toc-item-num\">9&nbsp;&nbsp;</span>Conclusion</a></span><ul class=\"toc-item\"><li><span><a href=\"#Summary\" data-toc-modified-id=\"Summary-9.1\"><span class=\"toc-item-num\">9.1&nbsp;&nbsp;</span>Summary</a></span></li><li><span><a href=\"#Caveats\" data-toc-modified-id=\"Caveats-9.2\"><span class=\"toc-item-num\">9.2&nbsp;&nbsp;</span>Caveats</a></span></li><li><span><a href=\"#Additional-Info-&amp;-Cool-Stuff\" data-toc-modified-id=\"Additional-Info-&amp;-Cool-Stuff-9.3\"><span class=\"toc-item-num\">9.3&nbsp;&nbsp;</span>Additional Info &amp; Cool Stuff</a></span></li><li><span><a href=\"#Credits\" data-toc-modified-id=\"Credits-9.4\"><span class=\"toc-item-num\">9.4&nbsp;&nbsp;</span>Credits</a></span></li></ul></li></ul></div>"
   ]
  },
  {
   "cell_type": "markdown",
   "metadata": {},
   "source": [
    "## Introduction: Google Earth Engine"
   ]
  },
  {
   "cell_type": "markdown",
   "metadata": {},
   "source": [
    "- Google Earth Engine: https://code.earthengine.google.com/\n",
    "- Accessible via online JavaScript console or Python API\n",
    "- Free, but requires registration\n",
    "- Contains many interesting datasets! See Scripts > Examples > Datasets"
   ]
  },
  {
   "cell_type": "markdown",
   "metadata": {
    "heading_collapsed": true
   },
   "source": [
    "## Getting started"
   ]
  },
  {
   "cell_type": "markdown",
   "metadata": {
    "hidden": true
   },
   "source": [
    "- Register: https://signup.earthengine.google.com/\n",
    "- Usually sufficient to install using: pip install google-api-python-client earthengine-api\n",
    "- Full install instructions: https://developers.google.com/earth-engine/python_install_manual\n",
    "- First time you initialize Earth Engine API you will get a link to a web page to authenticate yourself (will be cached for subsequent API calls)\n",
    "- If authentication doesn't pop up, run `earthengine authenticate` on the command line"
   ]
  },
  {
   "cell_type": "markdown",
   "metadata": {},
   "source": [
    "## Libraries"
   ]
  },
  {
   "cell_type": "code",
   "execution_count": null,
   "metadata": {
    "ExecuteTime": {
     "end_time": "2019-08-15T16:31:17.136065Z",
     "start_time": "2019-08-15T16:31:16.298472Z"
    }
   },
   "outputs": [],
   "source": [
    "import numpy as np\n",
    "import pandas as pd\n",
    "import matplotlib.pyplot as plt\n",
    "import ee                          # Google Earth Engine\n",
    "import geopandas as gpd            # For plotting spatial data\n",
    "from IPython.display import Image  # For displaying images\n",
    "\n",
    "%matplotlib inline"
   ]
  },
  {
   "cell_type": "markdown",
   "metadata": {},
   "source": [
    "## Satellite Images"
   ]
  },
  {
   "cell_type": "markdown",
   "metadata": {
    "ExecuteTime": {
     "end_time": "2019-02-19T22:12:15.354506Z",
     "start_time": "2019-02-19T22:12:15.348576Z"
    }
   },
   "source": [
    "### Example: Elevation"
   ]
  },
  {
   "cell_type": "code",
   "execution_count": null,
   "metadata": {
    "ExecuteTime": {
     "end_time": "2019-08-15T16:31:18.382261Z",
     "start_time": "2019-08-15T16:31:17.137976Z"
    }
   },
   "outputs": [],
   "source": [
    "# Initialize Earth Engine\n",
    "ee.Initialize()\n",
    "\n",
    "# Get satellite image data\n",
    "elevation_image = ee.Image('CGIAR/SRTM90_V4')"
   ]
  },
  {
   "cell_type": "code",
   "execution_count": null,
   "metadata": {
    "ExecuteTime": {
     "end_time": "2019-08-15T16:31:19.326735Z",
     "start_time": "2019-08-15T16:31:18.384263Z"
    }
   },
   "outputs": [],
   "source": [
    "# Display thumbnail\n",
    "Image(\n",
    "    url=elevation_image.getThumbUrl(\n",
    "        {\n",
    "            'scale': 500,\n",
    "            'crs': 'EPSG:4326',\n",
    "            'region': '[[3, 51], [7, 51], [7, 54], [3, 54]]',\n",
    "            'min': -10,\n",
    "            'max': 0\n",
    "        }))"
   ]
  },
  {
   "cell_type": "code",
   "execution_count": null,
   "metadata": {
    "ExecuteTime": {
     "end_time": "2019-08-15T16:31:20.245197Z",
     "start_time": "2019-08-15T16:31:19.328878Z"
    }
   },
   "outputs": [],
   "source": [
    "# Download URL linking to tif image data\n",
    "url = elevation_image.getDownloadUrl({\n",
    "    'scale': 500,\n",
    "    'crs': 'EPSG:4326',\n",
    "    'region': '[[3, 51], [7, 51], [7, 54], [3, 54]]'\n",
    "})\n",
    "print(url)"
   ]
  },
  {
   "cell_type": "code",
   "execution_count": null,
   "metadata": {
    "ExecuteTime": {
     "end_time": "2019-08-15T16:31:20.253620Z",
     "start_time": "2019-08-15T16:31:20.250276Z"
    }
   },
   "outputs": [],
   "source": [
    "#type(elevation_image)"
   ]
  },
  {
   "cell_type": "code",
   "execution_count": null,
   "metadata": {
    "ExecuteTime": {
     "end_time": "2019-08-15T16:31:20.259429Z",
     "start_time": "2019-08-15T16:31:20.256705Z"
    }
   },
   "outputs": [],
   "source": [
    "#elevation_image.getInfo()"
   ]
  },
  {
   "cell_type": "markdown",
   "metadata": {},
   "source": [
    "### Example: Accessibility to cities"
   ]
  },
  {
   "cell_type": "code",
   "execution_count": null,
   "metadata": {
    "ExecuteTime": {
     "end_time": "2019-08-15T16:31:21.166919Z",
     "start_time": "2019-08-15T16:31:20.261052Z"
    }
   },
   "outputs": [],
   "source": [
    "dataset = ee.Image('Oxford/MAP/accessibility_to_cities_2015_v1_0');\n",
    "accessibility = dataset.select('accessibility');\n",
    "settings = {\n",
    "    'min': 0.0,\n",
    "    'max': 41556.0,\n",
    "    'gamma': 4.0,\n",
    "    'scale': 1,\n",
    "    'region': '[[-20, 0], [-20, 40], [20, 40], [20, 0]]'\n",
    "}\n",
    "Image(url=accessibility.getThumbUrl(settings))"
   ]
  },
  {
   "cell_type": "markdown",
   "metadata": {},
   "source": [
    "## Image Collections"
   ]
  },
  {
   "cell_type": "markdown",
   "metadata": {},
   "source": [
    "Image Collection: set of satellite images taken at different dates"
   ]
  },
  {
   "cell_type": "markdown",
   "metadata": {},
   "source": [
    "### Example: Rainfall"
   ]
  },
  {
   "cell_type": "code",
   "execution_count": null,
   "metadata": {
    "ExecuteTime": {
     "end_time": "2019-08-15T16:31:21.172295Z",
     "start_time": "2019-08-15T16:31:21.169065Z"
    }
   },
   "outputs": [],
   "source": [
    "# Loading image collection\n",
    "rainfall_imcol = ee.ImageCollection(\"TRMM/3B43V7\")"
   ]
  },
  {
   "cell_type": "code",
   "execution_count": null,
   "metadata": {
    "ExecuteTime": {
     "end_time": "2019-08-15T16:31:21.176969Z",
     "start_time": "2019-08-15T16:31:21.174522Z"
    }
   },
   "outputs": [],
   "source": [
    "# Inspecting\n",
    "#rainfall_imcol.getInfo()"
   ]
  },
  {
   "cell_type": "code",
   "execution_count": null,
   "metadata": {
    "ExecuteTime": {
     "end_time": "2019-08-15T16:31:21.182780Z",
     "start_time": "2019-08-15T16:31:21.178655Z"
    }
   },
   "outputs": [],
   "source": [
    "# Subsetting\n",
    "rainfall_imcol_subset = rainfall_imcol \\\n",
    "    .select('precipitation') \\\n",
    "    .filter(ee.Filter.calendarRange(2017, 2017, 'year')) \\\n",
    "    .filter(ee.Filter.calendarRange(12, 12, 'month'))"
   ]
  },
  {
   "cell_type": "code",
   "execution_count": null,
   "metadata": {
    "ExecuteTime": {
     "end_time": "2019-08-15T16:31:21.186274Z",
     "start_time": "2019-08-15T16:31:21.184264Z"
    }
   },
   "outputs": [],
   "source": [
    "# Inspect subset\n",
    "#rainfall_imcol_subset.getInfo()"
   ]
  },
  {
   "cell_type": "markdown",
   "metadata": {},
   "source": [
    "### Interesting Image Collections\n",
    "\n",
    "For complete list, see: https://developers.google.com/earth-engine/datasets/catalog/"
   ]
  },
  {
   "cell_type": "code",
   "execution_count": null,
   "metadata": {
    "ExecuteTime": {
     "end_time": "2019-08-15T16:31:21.194326Z",
     "start_time": "2019-08-15T16:31:21.188406Z"
    }
   },
   "outputs": [],
   "source": [
    "# Image Collections\n",
    "vegetation = \"NOAA/CDR/AVHRR/NDVI/V4\"\n",
    "rainfall = \"TRMM/3B43V7\"\n",
    "soilmoisture = \"NASA_USDA/HSL/soil_moisture\"\n",
    "terraclimate = \"IDAHO_EPSCOR/TERRACLIMATE\"\n",
    "populationdensity = \"CIESIN/GPWv4/unwpp-adjusted-population-density\"\n",
    "\n",
    "# Single Images\n",
    "elevation = \"USGS/GMTED2010\"\n",
    "accessibility = \"Oxford/MAP/accessibility_to_cities_2015_v1_0\""
   ]
  },
  {
   "cell_type": "markdown",
   "metadata": {
    "heading_collapsed": true
   },
   "source": [
    "## Shape files, Fusion Tables & Feature Collections"
   ]
  },
  {
   "cell_type": "markdown",
   "metadata": {
    "hidden": true
   },
   "source": [
    "\n",
    "\n",
    "### Shapefiles\n",
    "\n",
    "In the field of geographical visualization a lot of data is stored as `shapefiles`. Shapefile is a vector data format that stores features such as **points**, **lines** and **polygons**, which can represent roads, rivers, municipality borders etc.\n",
    "\n",
    "A shapefile is not just a single file as the name suggests, but contains a **collection of files** with a common filename prefix, stored in the same directory!\n",
    "\n",
    "There are **3 mandatory files**, with the following extensions:\n",
    "\n",
    "- **`.shp`** — shape format; the **feature geometry itself**\n",
    "- **`.shx`** — shape index format; a positional index of the feature geometry to allow seeking forwards and backwards quickly\n",
    "- **`.dbf`** — attribute format; columnar attributes for each shape, in dBase IV format\n",
    "\n",
    "There are also several optional files in the shapefile format. The most significant of these is the **`.prj`** file which describes the **coordinate system** and **projection** information used.\n",
    "\n",
    "\n",
    "\n",
    "### Fusion Tables\n",
    "\n",
    "- Fusion tables: https://support.google.com/fusiontables/answer/2571232\n",
    "\n",
    "\n",
    "### Feature Collections\n",
    "\n",
    "### This example\n",
    "\n",
    "In this notebook we will be using a shapefile for Ethiopia and convert it to a Google Fusion Table, so that it can be used as a FeatureCollection in Google Earth Engine.\n",
    "\n",
    "We will use the following shapefile for Ethiopia: https://biogeo.ucdavis.edu/data/gadm3.6/shp/gadm36_ETH_shp.zip (one of many admin level shapefiles listed on http://www.gadm.org/country)\n",
    "\n",
    "Converting shapefile to fusion table using: http://www.shpescape.com/\n",
    "\n",
    "Result: http://www.google.com/fusiontables/DataSource?docid=17vnMefggvVUM7sQLcVErqPpkNQQApP5rFMe081J5\n"
   ]
  },
  {
   "cell_type": "markdown",
   "metadata": {},
   "source": [
    "## Shapefile of administrative zones"
   ]
  },
  {
   "cell_type": "code",
   "execution_count": null,
   "metadata": {
    "ExecuteTime": {
     "end_time": "2019-08-15T16:31:21.815443Z",
     "start_time": "2019-08-15T16:31:21.196428Z"
    }
   },
   "outputs": [],
   "source": [
    "# Load original shapefile using geopandas\n",
    "shapefile = \"../geodata/ethiopia_admin3_zones/gadm36_ETH_3.shp\"\n",
    "gdf_ETH3_shapefile = gpd.read_file(shapefile)\n",
    "gdf_ETH3_shapefile.plot(figsize=(20,10))"
   ]
  },
  {
   "cell_type": "markdown",
   "metadata": {},
   "source": [
    "## Aggregated statistics per region"
   ]
  },
  {
   "cell_type": "code",
   "execution_count": null,
   "metadata": {
    "ExecuteTime": {
     "end_time": "2019-08-15T16:31:21.822913Z",
     "start_time": "2019-08-15T16:31:21.818087Z"
    },
    "code_folding": [
     3
    ]
   },
   "outputs": [],
   "source": [
    "\"\"\"\n",
    "Helper function to convert feature collection (from Google Earth Engine) to pandas dataframe\n",
    "\"\"\"\n",
    "def fc_to_df(fc):\n",
    "    # Convert a FeatureCollection into a pandas DataFrame\n",
    "    # Features is a list of dict with the output\n",
    "    features = fc.getInfo()['features']\n",
    "\n",
    "    dictarr = []\n",
    "\n",
    "    for feature in features:\n",
    "        # Store all attributes in a dict\n",
    "        attr = feature['properties']\n",
    "        # and treat geometry separately\n",
    "        attr['geometry'] = feature['geometry']  # GeoJSON Feature!\n",
    "        dictarr.append(attr)\n",
    "\n",
    "    df = gpd.GeoDataFrame(dictarr)\n",
    "    # Convert GeoJSON features to shape\n",
    "    df['geometry'] = map(lambda s: shape(s), df.geometry)    \n",
    "    return(df)"
   ]
  },
  {
   "cell_type": "code",
   "execution_count": null,
   "metadata": {
    "ExecuteTime": {
     "end_time": "2019-08-15T16:31:21.829110Z",
     "start_time": "2019-08-15T16:31:21.825924Z"
    }
   },
   "outputs": [],
   "source": [
    "# Settings\n",
    "fusion_table_ethiopia_admin3 = \"ft:17vnMefggvVUM7sQLcVErqPpkNQQApP5rFMe081J5\"\n",
    "image_collection_name = \"MODIS/MCD43A4_006_NDVI\"\n",
    "year = 2015\n",
    "month = 10\n",
    "temporal_reducer_function = ee.Reducer.mean()\n",
    "spatial_reducer_function = ee.Reducer.mean()\n",
    "scale = 1000"
   ]
  },
  {
   "cell_type": "code",
   "execution_count": null,
   "metadata": {
    "ExecuteTime": {
     "end_time": "2019-08-15T16:31:21.833067Z",
     "start_time": "2019-08-15T16:31:21.830668Z"
    }
   },
   "outputs": [],
   "source": [
    "# Load regions\n",
    "regions = ee.FeatureCollection(fusion_table_ethiopia_admin3)"
   ]
  },
  {
   "cell_type": "code",
   "execution_count": null,
   "metadata": {
    "ExecuteTime": {
     "end_time": "2019-08-15T16:31:21.838651Z",
     "start_time": "2019-08-15T16:31:21.834845Z"
    }
   },
   "outputs": [],
   "source": [
    "# Filter image collection on year/month and reduce to single image\n",
    "image = ee.ImageCollection(image_collection_name) \\\n",
    "    .filter(ee.Filter.calendarRange(year, year, 'year')) \\\n",
    "    .filter(ee.Filter.calendarRange(month, month, 'month')) \\\n",
    "    .reduce(reducer = temporal_reducer_function)"
   ]
  },
  {
   "cell_type": "code",
   "execution_count": null,
   "metadata": {
    "ExecuteTime": {
     "end_time": "2019-08-15T16:31:26.618624Z",
     "start_time": "2019-08-15T16:31:21.842968Z"
    }
   },
   "outputs": [],
   "source": [
    "# Get mean values by regions polygon\n",
    "spatially_reduced_image = image.reduceRegions(collection = regions, reducer = spatial_reducer_function,\n",
    "                                              scale = scale)\n",
    "\n",
    "# Feature collection to dataframe\n",
    "df_satellite_data_aggregation = fc_to_df(spatially_reduced_image)"
   ]
  },
  {
   "cell_type": "code",
   "execution_count": null,
   "metadata": {
    "ExecuteTime": {
     "end_time": "2019-08-15T16:31:26.646007Z",
     "start_time": "2019-08-15T16:31:26.620075Z"
    }
   },
   "outputs": [],
   "source": [
    "df_satellite_data_aggregation.head()"
   ]
  },
  {
   "cell_type": "markdown",
   "metadata": {},
   "source": [
    "## Visualization using geopandas"
   ]
  },
  {
   "cell_type": "code",
   "execution_count": null,
   "metadata": {
    "ExecuteTime": {
     "end_time": "2019-08-15T16:31:26.656357Z",
     "start_time": "2019-08-15T16:31:26.648412Z"
    }
   },
   "outputs": [],
   "source": [
    "# Workaround: merge original shapefile with satellite data (use CC_3 id variable to merge on)\n",
    "gdf_satellite_ETH3 = gdf_ETH3_shapefile \\\n",
    "    .merge(df_satellite_data_aggregation[['CC_3', 'mean']])"
   ]
  },
  {
   "cell_type": "code",
   "execution_count": null,
   "metadata": {
    "ExecuteTime": {
     "end_time": "2019-08-15T16:31:27.440629Z",
     "start_time": "2019-08-15T16:31:26.657650Z"
    }
   },
   "outputs": [],
   "source": [
    "# Load natural earth geodataframe\n",
    "gdf_countries = gpd.read_file(gpd.datasets.get_path('naturalearth_lowres'))\n",
    "\n",
    "# Plot settings\n",
    "fig, ax = plt.subplots(figsize=(16,16), subplot_kw={'aspect':'equal'})\n",
    "ax.set_xlim(32, 49)\n",
    "ax.set_ylim(2,16)\n",
    "#ax.set_axis_off()\n",
    "ax.set_title(image_collection_name, size = 20)\n",
    "\n",
    "# Plot satellite data on top of natural earth\n",
    "gdf_countries.plot(color='lightgrey', ax=ax)\n",
    "gdf_satellite_ETH3.plot(ax=ax, column='mean', cmap='RdYlGn', legend=True);"
   ]
  },
  {
   "cell_type": "markdown",
   "metadata": {},
   "source": [
    "## Conclusion"
   ]
  },
  {
   "cell_type": "markdown",
   "metadata": {
    "heading_collapsed": true
   },
   "source": [
    "### Summary\n",
    "\n",
    "We explored the following:\n",
    "\n",
    "- Google Earth Engine\n",
    "- Satellite Images: retrieving as tif raster image data, displaying\n",
    "- Image Collections: retrieving, selecting, filtering, inspecting\n",
    "- Some interesting satellite datasets\n",
    "- Shapefiles\n",
    "- Feature Collections & Fusion Tables\n",
    "- Aggregated statistics per region\n",
    "- Spatial visualization using geopandas\n",
    "\n",
    "\n",
    "### Caveats\n",
    "\n",
    "- Google Fusion Tables will not be available after Dec. 3 2019. One alternative is to load datasets from Google Drive.\n",
    "\n",
    "\n",
    "### Additional Info & Cool Stuff\n",
    "\n",
    "- Location of this notebook: https://gitlab.com/anchormen/hpp-playground/tree/master/satellite-data-google-earth-engine\n",
    "\n",
    "- Google Earth Engine:\n",
    "    - Javascript console: https://code.earthengine.google.com/\n",
    "    - Datasets: https://developers.google.com/earth-engine/datasets/catalog/\n",
    "    - Tutorial: https://www.youtube.com/watch?v=qy6P4hrbvQQ&list=PL5HZP4e4e-_gjKKfx9rY4uN22OSBJOZ79\n",
    "- OpenStreetMap exports (shapefiles and other formats): http://download.geofabrik.de/\n",
    "- Global Administrative Areas (GADM) shapefiles: http://www.gadm.org/\n",
    "- Descartes Labs (briefly checked out):\n",
    "\t- Maps: https://maps.descarteslabs.com/?layer=sentinel-1_v2_vv_2014-2017#lat=52.1824583&lng=4.6594765&zoom=10\n",
    "\t- Search: https://search.descarteslabs.com\n",
    "    - API: pip install descarteslabs\n",
    "- Spatial Visualization HPP lesson (geopandas, etc): https://gitlab.com/anchormen/high-potential-program-data-science/tree/master/lessons/BASICS-Spatial-Visualization-Mapping\n",
    "\n",
    "\n",
    "### Credits\n",
    "\n",
    "- Thanks to Joris Westerveld, 510 Data Team of The Netherlands Red Cross, for aggregated statistics Python code and interesting datasets."
   ]
  }
 ],
 "metadata": {
  "anaconda-cloud": {},
  "hide_input": false,
  "kernelspec": {
   "display_name": "Python 3",
   "language": "python",
   "name": "python3"
  },
  "language_info": {
   "codemirror_mode": {
    "name": "ipython",
    "version": 3
   },
   "file_extension": ".py",
   "mimetype": "text/x-python",
   "name": "python",
   "nbconvert_exporter": "python",
   "pygments_lexer": "ipython3",
   "version": "3.7.3"
  },
  "toc": {
   "base_numbering": 1,
   "nav_menu": {},
   "number_sections": true,
   "sideBar": true,
   "skip_h1_title": true,
   "title_cell": "Table of Contents",
   "title_sidebar": "Contents",
   "toc_cell": true,
   "toc_position": {},
   "toc_section_display": true,
   "toc_window_display": false
  },
  "varInspector": {
   "cols": {
    "lenName": 16,
    "lenType": 16,
    "lenVar": 40
   },
   "kernels_config": {
    "python": {
     "delete_cmd_postfix": "",
     "delete_cmd_prefix": "del ",
     "library": "var_list.py",
     "varRefreshCmd": "print(var_dic_list())"
    },
    "r": {
     "delete_cmd_postfix": ") ",
     "delete_cmd_prefix": "rm(",
     "library": "var_list.r",
     "varRefreshCmd": "cat(var_dic_list()) "
    }
   },
   "types_to_exclude": [
    "module",
    "function",
    "builtin_function_or_method",
    "instance",
    "_Feature"
   ],
   "window_display": false
  }
 },
 "nbformat": 4,
 "nbformat_minor": 2
}
