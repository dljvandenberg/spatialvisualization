{
 "cells": [
  {
   "cell_type": "markdown",
   "metadata": {},
   "source": [
    "---\n",
    "\n",
    "<img src=\"../images/anchormen-logo.png\" width=\"500\">\n",
    "\n",
    "---"
   ]
  },
  {
   "cell_type": "markdown",
   "metadata": {},
   "source": [
    "# BASICS Lab: Spatial Visualization Maps\n",
    "\n",
    "In this lab session we will work on spatial visualizations. We will mostly use *Basemap* which is a powerful extension of the matplotlib visualization library with a focus on geographical projections. First we will explore the basic concepts and methods used in spatial visualization. Next we will use some interesting datasets to create more advanced maps. \n",
    "\n",
    "\n",
    "\n",
    "## Goals\n",
    "\n",
    "After this lab, you will:\n",
    "\n",
    "- have installed Basemap on your computer\n",
    "- know how to use different projections in Basemap\n",
    "- know how to use basic Basemap commands for plotting countries, coastlines, rivers, backgrounds, etc.\n",
    "- know how to zoom in and set resolutions\n",
    "- know how to plot points based on latitude/longitude values \n",
    "- know how to obtain, import and display Shapefiles\n",
    "- know how to create a Choropleth Map \n",
    "- apply this to live flight data of air planes\n",
    "- know other useful libraries for plotting spatial data\n",
    "\n",
    "\n",
    "\n",
    "## Useful mapping libraries\n",
    "\n",
    "- Geopandas\n",
    "    - Lightweight, uses libraries such as pandas, geos, shapely, gdal, fiona, pyproj, rtree\n",
    "    - Implements GeoDataFrame, GeoSeries objects (extensions of pandas DataFrames, Series for geospatial data)\n",
    "- Gmplot\n",
    "    - For quick plotting on google maps and generating interactive html, not extensive\n",
    "- Plotly\n",
    "- Basemap (this notebook)\n",
    "    - [+] powerful library\n",
    "    - [+] extensive projections\n",
    "    - [+] easy plotting coastlines, countries, rivers, standard background, setting custom backgrounds, etc\n",
    "    - [-] bit harder to install (on Windows)\n",
    "    - [-] can be slow for some plots\n",
    "    - [+] adjusting plotting granularity\n",
    "    - [-] harder to plot chloropleth maps"
   ]
  },
  {
   "cell_type": "markdown",
   "metadata": {},
   "source": [
    "# A. Basemap Installation\n",
    "\n",
    "As basemap is an extension of matplotlib it requires this library to be installed as well.\n",
    "\n",
    "### Mac  / Linux\n",
    "\n",
    "To install Basemap run the command:\n",
    "- `conda install basemap`\n",
    "\n",
    "\n",
    "### Windows\n",
    "\n",
    "There tend to be some problems installing basemap on windows using Python 3. These can be prevented by installing Basemap as follows, via a wheel file:\n",
    "\n",
    "- Go to: http://www.lfd.uci.edu/~gohlke/pythonlibs/ and search for 'pyproj' and 'basemap' (you will need both)\n",
    "- Download the approprate .whl files for 'pyproj' and 'basemap'\n",
    "    - Select the right files based on your Python version (for example, marked by 'cp36' for Python 3.6) and the approprate number of bits of your Python version (32/64bit)\n",
    "    - If necessary, use the commands below to find out your Python version"
   ]
  },
  {
   "cell_type": "code",
   "execution_count": null,
   "metadata": {
    "collapsed": true
   },
   "outputs": [],
   "source": [
    "# Check Python version\n",
    "!python -V\n",
    "# Check number of bits of Python version\n",
    "import struct; print (\"Number of bits version:\", struct.calcsize(\"P\") * 8)"
   ]
  },
  {
   "cell_type": "markdown",
   "metadata": {},
   "source": [
    "- Open a command window in the directory where your .whl file is located and install 'pyproj' first and then 'basemap', using the pip command below. This will unpack and install the .whl file and basemap should be installed successfully.\n",
    "    - `pip install <name-of-whl-file>`\n",
    "\n",
    "*In case of problems:*\n",
    "\n",
    "- The `basemap` installation above has been observed to fail on Windows machines without admin permissions.\n",
    "- A workaround for some cases is to install Microsoft Visual Studio tools first, before installing the basemap whl file.\n",
    "\n",
    "\n",
    "### Verify Basemap install\n",
    "\n",
    "- By executing the following code without errors:"
   ]
  },
  {
   "cell_type": "code",
   "execution_count": null,
   "metadata": {
    "collapsed": true
   },
   "outputs": [],
   "source": [
    "# Check successful installation\n",
    "from mpl_toolkits.basemap import Basemap"
   ]
  },
  {
   "cell_type": "markdown",
   "metadata": {},
   "source": [
    "---\n",
    "\n",
    "# B. Projections\n",
    "\n",
    "Basemap makes use of `projections` to visualize the Earth on a two-dimentional map.\n",
    "\n",
    "It is good to realise that these projections will always cause a certain level of distortion, which will be particularly clear when plotting large areas (or at low zoom factors). Some projections are global, and some can only represent a portion of the globe. Note that many map projection possess one of two desirable properties - they can be equal-area (the area of features is preserved) or conformal (the shape of features is preserved). Since no map projection can have both at the same time, many compromise between the two.\n",
    "\n",
    "Depending on the data you want to visualize you can choose one of the 24 different projections supported by Basemap: http://matplotlib.org/basemap/users/mapsetup.html\n",
    "\n",
    "<img src=\"./images/xkcd-projections.png\" width=\"400\">\n",
    "\n",
    "Commonly used projections include:\n",
    "- **Equidistant Cylindrical Projection** (Basemap default): The simplest projection, just displays the world in latitude/longitude coordinates.\n",
    "- **Mercator Projection**: A cylindrical, conformal projection. Very large distortion at high latitudes, cannot fully reach the polar regions.\n",
    "- **Orthographic Projection**: Displays the earth as a satellite would see it.\n",
    "- **Robinson Projection**: A global projection once used by the National Geographic Society for world maps.\n",
    "- **Mollweide projection**: A global, elliptical, equal-area projection.\n",
    "\n",
    "\n",
    "\n",
    "# C. Initializing first map\n",
    "\n",
    "To draw a map, we first need to initialize a `Basemap` object. This also allows for specifying the desired map projection. Depending on the projection type additional information might be needed, such as the portions of the earth's surface that should be visualized.\n",
    "\n",
    "Basemap includes some data on coastlines, country borders and lakes by default. More detailed data can be loaded separately.\n",
    "\n",
    "In the cell code below we initialize a Basemap class. As we do not specify any parameters it uses the 'Equidistant Cylindrical Projection' by default (also known as 'Plate Carrée'). Furthermore we will add coastlines with the Basemap method `drawcoastlines()`, so that we will not end up with a blank map."
   ]
  },
  {
   "cell_type": "code",
   "execution_count": null,
   "metadata": {
    "collapsed": true,
    "scrolled": false
   },
   "outputs": [],
   "source": [
    "# Libraries\n",
    "from mpl_toolkits.basemap import Basemap\n",
    "import matplotlib.pyplot as plt\n",
    "\n",
    "# Initialize figure\n",
    "plt.figure(figsize=(15,18))\n",
    "\n",
    "# Initialize Basemap object\n",
    "map = Basemap()\n",
    "\n",
    "# Add coastlines\n",
    "map.drawcoastlines()\n",
    "\n",
    "# Set title and show plot\n",
    "plt.title('World map')\n",
    "plt.show()"
   ]
  },
  {
   "cell_type": "markdown",
   "metadata": {},
   "source": [
    "If we wanted to change the color of the coastlines we can pass in a color argument, the same holds for the thickness of the line. \n",
    "\n",
    "The most important parameters that can be specified for the **`drawcoastlines`** method are: \n",
    "\n",
    "    drawcoastlines(linewidth=1.0, linestyle=’solid’, color=’k’, ax=None)\n",
    "    \n",
    "Remember that you can always get more info on a specific method by invoking the **`help()`** command:"
   ]
  },
  {
   "cell_type": "code",
   "execution_count": null,
   "metadata": {
    "collapsed": true
   },
   "outputs": [],
   "source": [
    "# Info on drawcoastlines() method\n",
    "help(map.drawcoastlines)"
   ]
  },
  {
   "cell_type": "markdown",
   "metadata": {},
   "source": [
    "    \n",
    "**Exercise: Change the thickness of the coastlines and the color in the code cell below**. Feel free to experiment."
   ]
  },
  {
   "cell_type": "code",
   "execution_count": null,
   "metadata": {
    "collapsed": true
   },
   "outputs": [],
   "source": [
    "# Insert code. Note that Matplotlib requires you to initialize your basemap object again, after each plt.show()\n",
    "\n",
    "\n",
    "\n",
    "# Set title and show plot\n",
    "plt.title('World map')\n",
    "plt.show()"
   ]
  },
  {
   "cell_type": "markdown",
   "metadata": {},
   "source": [
    "---\n",
    "\n",
    "# D. Basic Basemap methods\n",
    "\n",
    "In the example above we added the coastlines to the map projection. Some other Basemap methods to add details to the map projection are listed below: \n",
    "\n",
    "- **bluemarble()**\n",
    "- **etopo()**\n",
    "- **fillcontinents()**\n",
    "- **drawcountries()**\n",
    "- **drawstates()**\n",
    "- **drawrivers()**\n",
    "- **drawmapboundary()**\n",
    "- **drawmeridians()**\n",
    "- **drawparallels()**\n",
    "\n",
    "Most of these have self-explanatory names. **`bluemarble()`** and **`etopo()`** add detailed aerial and relief images as map backgrounds (from NASA and NOAA respectively).\n",
    "\n",
    "For more info on meaning and parameter settings for each of the Basemap methods, the Basemap documentation will come in handy during a number of the exercises below. See: http://matplotlib.org/basemap/api/basemap_api.html\n",
    "\n",
    "**Exercise: Add some details to the previously created mapping by adding: countries, rivers and relief**"
   ]
  },
  {
   "cell_type": "code",
   "execution_count": null,
   "metadata": {
    "collapsed": true
   },
   "outputs": [],
   "source": [
    "# Insert your code here\n",
    "\n",
    "\n",
    "\n",
    "# Set title and show plot\n",
    "plt.title('World map')\n",
    "plt.show()"
   ]
  },
  {
   "cell_type": "markdown",
   "metadata": {},
   "source": [
    "**Exercise: Change the map projection to 'ortho' and set the lat_0 and lon_0 parameters according to your own wishes. Furthermore, add meridians and parallels.** Are you able to locate the Amazon River?"
   ]
  },
  {
   "cell_type": "code",
   "execution_count": null,
   "metadata": {
    "collapsed": true
   },
   "outputs": [],
   "source": [
    "# Projection 'ortho'\n",
    "\n",
    "import numpy as np\n",
    "\n",
    "plt.figure(figsize=(14,14))\n",
    "\n",
    "# Insert your code here\n",
    "\n",
    "\n",
    "\n",
    "plt.show()"
   ]
  },
  {
   "cell_type": "markdown",
   "metadata": {},
   "source": [
    "**Exercise: Now use the warpimage() method to set the following custom image as your map background. You can choose a projection of your own liking.**\n",
    "\n",
    "Image URL: https://eoimages.gsfc.nasa.gov/images/imagerecords/79000/79765/dnb_land_ocean_ice.2012.3600x1800.jpg"
   ]
  },
  {
   "cell_type": "code",
   "execution_count": null,
   "metadata": {
    "collapsed": true
   },
   "outputs": [],
   "source": [
    "# Add custom image background using warpimage()\n",
    "\n",
    "plt.figure(figsize=(8,10))\n",
    "\n",
    "# Insert your code here\n",
    "\n",
    "\n",
    "\n",
    "plt.show()"
   ]
  },
  {
   "cell_type": "markdown",
   "metadata": {},
   "source": [
    "---\n",
    "\n",
    "# E. Zooming in\n",
    "\n",
    "There are two options to change the portion of the earth's surface in Basemap. \n",
    "\n",
    "1. Provide the latitude and longitude coordinates of **each of the four corners** of the rectangular map projection region \n",
    "2. Provide the latitude and longitude coordinates of the **center** of the projection region along with the **width and height** of the region (in kilometers). \n",
    "    \n",
    "In the code cell below the mapping has been zoomed to Europe, using the first method for centering/zooming the map."
   ]
  },
  {
   "cell_type": "code",
   "execution_count": null,
   "metadata": {
    "collapsed": true
   },
   "outputs": [],
   "source": [
    "# Europe zoom for the Plate Carrée projection\n",
    "\n",
    "plt.figure(figsize=(15,18))\n",
    "\n",
    "# Coordinates of map corners\n",
    "x1= -20.0\n",
    "x2= 40.0\n",
    "y1= 32.0\n",
    "y2= 74.0\n",
    "\n",
    "# Zoom in on coordinates\n",
    "map_europe = Basemap(llcrnrlon=x1, urcrnrlon=x2, llcrnrlat=y1, urcrnrlat=y2)\n",
    "\n",
    "map_europe.bluemarble()\n",
    "\n",
    "# Set title and show plot\n",
    "plt.title('Europe')\n",
    "plt.show()"
   ]
  },
  {
   "cell_type": "markdown",
   "metadata": {},
   "source": [
    "**Exercise: Use the projection 'tmerc' and zoom in on Australia.** You can ignore low resolution issues for now. We'll get to that in the next exercise."
   ]
  },
  {
   "cell_type": "code",
   "execution_count": null,
   "metadata": {
    "collapsed": true
   },
   "outputs": [],
   "source": [
    "# Map of Australia\n",
    "\n",
    "plt.figure(figsize=(8,10))\n",
    "\n",
    "# Insert your code here\n",
    "\n",
    "\n",
    "plt.show()"
   ]
  },
  {
   "cell_type": "markdown",
   "metadata": {},
   "source": [
    "## Increasing the resolution\n",
    "\n",
    "You probably noticed that some details are missing when you zoom in. For example, boundaries are very coarse and small islands don't even get plotted.\n",
    "\n",
    "In that case you may want to:\n",
    "\n",
    "- increase the **`resolution`** parameter, and/or\n",
    "- lower the **`area_thresh`** parameter\n",
    "\n",
    "The `area_thresh` setting specifies how large a feature must be (in square kilometers) in order to appear in the plot. The `resolution` parameter can have the following values:\n",
    "\n",
    "- **c** (crude)\n",
    "- **l** (low)\n",
    "- **i** (intermediate)\n",
    "- **h** (high)\n",
    "- **f** (full; only if data has been installed)\n",
    "\n",
    "Of course, there is a tradeoff between level of details and plotting speed.."
   ]
  },
  {
   "cell_type": "markdown",
   "metadata": {},
   "source": [
    "**Exercise: Zoom in on The Netherlands and make sure that all 'Wadden' islands in the North are nicely visualized.**"
   ]
  },
  {
   "cell_type": "code",
   "execution_count": null,
   "metadata": {
    "collapsed": true
   },
   "outputs": [],
   "source": [
    "plt.figure(figsize=(8,10))\n",
    "\n",
    "# Insert your code here\n",
    "\n",
    "\n",
    "\n",
    "plt.show()"
   ]
  },
  {
   "cell_type": "markdown",
   "metadata": {
    "collapsed": true
   },
   "source": [
    "---\n",
    "\n",
    "# F. Plotting points and markers on a map \n",
    "\n",
    "Now, let's see how we can add points to the map. Consider the map of Europe. What if we want to plot the location of Rome on it.\n",
    "\n",
    "## Coordinate transformation\n",
    "\n",
    "First we need to know the geographic coordinates of Rome. Simply googling this information gives us:\n",
    "- Latitude = 41.8919300\n",
    "- Longitude = 12.5113300\n",
    "\n",
    "Plotting a point on the mapping is done with the **`plot()`** method. This method uses x and y parameter values, which are expressed in matplotlib frame coordinates.\n",
    "\n",
    "To convert lon, lat geographic coordinates to x, y coordinates of matplotlib, we use the initialized Basemap object:\n",
    "\n",
    "    map_europe = Basemap(...)\n",
    "    x, y = map_europe(lon, lat)\n",
    "\n",
    "Note that for some projections `x` and `y` can be equal to `lon` and `lat`. This is not true in general though. For example, the orthographic projection that we've seen before uses a nonlinear transformation for this.\n",
    "\n",
    "\n",
    "## Matplotlib Markers\n",
    "\n",
    "Furthermore, the plot() method in matplotlib allows for some optional parameter settings:\n",
    "- markersize \n",
    "- markerstyle \n",
    "- markercolor\n",
    "    \n",
    "In the example below we use a red circle marker, which is denoted by the `ro` argument. A green plus marker would have been denoted by `g+`, for example."
   ]
  },
  {
   "cell_type": "code",
   "execution_count": null,
   "metadata": {
    "collapsed": true
   },
   "outputs": [],
   "source": [
    "# Europe zoom for the Plate Carrée projection\n",
    "\n",
    "plt.figure(figsize=(15,18))\n",
    "\n",
    "# Coordinates of map corners\n",
    "x1= -20.\n",
    "x2= 40.\n",
    "y1= 32.\n",
    "y2= 64.\n",
    "\n",
    "map_europe = Basemap(llcrnrlon=x1, urcrnrlon=x2, llcrnrlat=y1, urcrnrlat=y2, resolution='i')\n",
    "\n",
    "map_europe.etopo()\n",
    "map_europe.drawcoastlines()\n",
    "map_europe.drawcountries()\n",
    "map_europe.drawrivers()\n",
    "\n",
    "# Coordinates of marker\n",
    "lon = 12.5113300\n",
    "lat = 41.8919300\n",
    "# Convert lon, lat coordinates to x, y coordinates in matplotlib plot\n",
    "x, y = map_europe(lon, lat)\n",
    "# Plot marker at x, y coordinates\n",
    "map_europe.plot(x, y, 'ro', markersize=12)\n",
    "\n",
    "# Set title and show plot\n",
    "plt.title('Rome')\n",
    "plt.show()"
   ]
  },
  {
   "cell_type": "markdown",
   "metadata": {},
   "source": [
    "**Exercise: Plot the location of Amsterdam on the map using a projection of your own liking.**"
   ]
  },
  {
   "cell_type": "code",
   "execution_count": null,
   "metadata": {
    "collapsed": true
   },
   "outputs": [],
   "source": [
    "# Plot Amsterdam as a point on the map of the Netherlands\n",
    "\n",
    "plt.figure(figsize=(15,18))\n",
    "\n",
    "# Coordinates of Amsterdam\n",
    "lon = 4.899431\n",
    "lat = 52.379189\n",
    "\n",
    "# Insert your code here\n",
    "\n",
    "\n",
    "\n",
    "# Show\n",
    "plt.show()"
   ]
  },
  {
   "cell_type": "markdown",
   "metadata": {},
   "source": [
    "## Plotting multiple points \n",
    "\n",
    "To plot multiple points we can store the latitudes and longitudes of our points of interest in two separate lists, now you simply map these to the x an y coordinates and use the same procedure using the `plot()` function. \n",
    "\n",
    "Here we plot some of the capitals of countries in Europe:"
   ]
  },
  {
   "cell_type": "code",
   "execution_count": null,
   "metadata": {
    "collapsed": true,
    "scrolled": false
   },
   "outputs": [],
   "source": [
    "plt.figure(figsize=(15,18))\n",
    "\n",
    "x1= -20.\n",
    "x2= 40.\n",
    "y1= 32.\n",
    "y2= 64.\n",
    "\n",
    "map = Basemap(llcrnrlat=y1,urcrnrlat=y2,llcrnrlon=x1,urcrnrlon=x2, resolution='i')\n",
    "\n",
    "map.drawcoastlines()\n",
    "map.drawcountries()\n",
    "map.drawrivers()\n",
    "map.etopo()\n",
    "\n",
    "lon = [12.5113300, 4.899431, 13.4105300, -0.118092, -3.707398, 2.294694, 18.063240]\n",
    "lat = [41.8919300, 52.379189, 52.5243700, 51.509865, 40.415363, 48.858093, 59.334591]\n",
    "x,y = map(lon, lat)\n",
    "map.plot(x, y, 'ro', markersize=12)\n",
    "\n",
    "# Set title and show plot\n",
    "plt.title('World map')\n",
    "plt.show()"
   ]
  },
  {
   "cell_type": "markdown",
   "metadata": {},
   "source": [
    "### Plotting lines and arcs\n",
    "\n",
    "If we want to plot a line between two points, we can simpy pass in both latitude and longitude values in a list as we did with plotting multiple points. But now change the marker setting to `None`, using these settings a line will be drawn using both points. So by eliminating the markers we get a line.\n",
    "\n",
    "A more accurate way would be to use the `drawgreatcircle()` method of Basemap, which plots an arc between 2 points over the surface of the Earth.\n",
    "\n",
    "**Exercise: Use the above plot and add a line from Amsterdam to Rome to it.**"
   ]
  },
  {
   "cell_type": "code",
   "execution_count": null,
   "metadata": {
    "collapsed": true
   },
   "outputs": [],
   "source": [
    "plt.figure(figsize=(15,18))\n",
    "\n",
    "# Coordinates Amsterdam, Rome\n",
    "lon_ams_rome = [12.5113300, 4.899431]\n",
    "lat_ams_rome = [41.8919300, 52.379189]\n",
    "\n",
    "# Insert your code here\n",
    "\n",
    "\n",
    "\n",
    "plt.show()"
   ]
  },
  {
   "cell_type": "markdown",
   "metadata": {},
   "source": [
    "---\n",
    "\n",
    "# G. Shapefiles \n",
    "\n",
    "In the field of geographical visualization a lot of data is stored as so called `shapefiles`. A shapefile is a vector data format that stores vector features for example; points, lines, polygons which can represent rivers, municipality borders etc. \n",
    "\n",
    "A shapefile is not just one file as the name suggests, but contains a collection of files with a common filename prefix, stored in the same directory. Important to know is that there are 3 mandatory files, with the following extensions:\n",
    "\n",
    "- **`.shp`** — shape format; the **feature geometry itself**\n",
    "- **`.shx`** — shape index format; a positional index of the feature geometry to allow seeking forwards and backwards quickly\n",
    "- **`.dbf`** — attribute format; columnar attributes for each shape, in dBase IV format\n",
    "\n",
    "There are also several optional files in the shapefile format. The most significant of these is the **`.prj`** file which describes the coordinate system and projection information used.\n",
    "\n",
    "\n",
    "### Mapping provinces of the Netherlands\n",
    "\n",
    "For this section we will use the shape file in subdirectory `borders/NLD_adm_shp`, which contains all provinces and municipalities of The Netherlands.\n",
    "\n",
    "Note that it has been retrieved from http://www.gadm.org/country (searching for 'Netherlands', selecting the Fileformat 'Shapefile', followed by unzipping the downloaded file 'NLD_adm_shp.zip').\n",
    "\n",
    "Shapefiles are read with the Basemap method: `readshapefile('location_of_shapefile', 'access_name')`"
   ]
  },
  {
   "cell_type": "code",
   "execution_count": null,
   "metadata": {
    "collapsed": true
   },
   "outputs": [],
   "source": [
    "# In this example we show how to plot each Province of the netherlands using a Shapefile\n",
    "\n",
    "from mpl_toolkits.basemap import Basemap\n",
    "import matplotlib.pyplot as plt\n",
    "\n",
    "x1= 2.\n",
    "x2= 8.\n",
    "y1= 50.\n",
    "y2= 54.\n",
    "\n",
    "map = Basemap(llcrnrlat=y1,urcrnrlat=y2,llcrnrlon=x1,urcrnrlon=x2,lat_ts=(x1+x2)/2, projection='tmerc', lat_0 = 39.5, lon_0 = 1, resolution = 'h', area_thresh = 0.1)\n",
    "\n",
    "map.drawmapboundary(fill_color='aqua')\n",
    "map.fillcontinents(color='#ddaa66',lake_color='aqua')\n",
    "map.drawcoastlines()\n",
    "map.drawcountries()\n",
    "\n",
    "location_shapefile = 'borders/NLD_adm_shp/NLD_adm1'\n",
    "map.readshapefile(location_shapefile, 'Netherlands')\n",
    "\n",
    "plt.show()"
   ]
  },
  {
   "cell_type": "markdown",
   "metadata": {},
   "source": [
    "### Mapping the municipalities of the Netherlands\n",
    "\n",
    "The shapefile contains different information levels, if we look in the folder we can also note that there is a shapefile with the name 'NLD_adm2' this contains information on the municipalities of the Netherlands. \n",
    "\n",
    "**Exercise: Map all municipalities of the Netherlands.**"
   ]
  },
  {
   "cell_type": "code",
   "execution_count": null,
   "metadata": {
    "collapsed": true,
    "scrolled": true
   },
   "outputs": [],
   "source": [
    "# Plotting all municipalities of the Netherlands\n",
    "\n",
    "location_shapefile = 'borders/NLD_adm_shp/NLD_adm2'\n",
    "\n",
    "# Insert your code here\n",
    "\n",
    "\n",
    "\n",
    "plt.show()"
   ]
  },
  {
   "cell_type": "markdown",
   "metadata": {},
   "source": [
    "--- \n",
    "\n",
    "\n",
    "# H. Choropleth Example: \n",
    "\n",
    "A choropleth map is used to visualize data that varies across geographic regions. The data is mapped to different colors. A choropleth is often used to visualize election results. \n",
    "\n",
    "For this example we will use open data by the World Bank that shows forest area as a percentage of land area in 2012. \n",
    "\n",
    "We will show the following steps:\n",
    "\n",
    "1. Obtaining the country data to be visualized\n",
    "2. Obtaining the shapefile with country borders\n",
    "3. Adding a color scheme to the data\n",
    "4. Visualizing the country data on a world map\n",
    "\n",
    "### Obtaining the country data\n",
    "\n",
    "We will automatically download the data from http://api.worldbank.org/v2/en/indicator/AG.LND.FRST.ZS and unzip it. The unzipped file that we are going to use will be stored in a temp directory with file name API_AG.LND.FRST.ZS_DS2_en_csv_v2.csv."
   ]
  },
  {
   "cell_type": "code",
   "execution_count": null,
   "metadata": {
    "collapsed": true
   },
   "outputs": [],
   "source": [
    "# Libraries\n",
    "# Note: Install wget using 'pip install wget' (not with conda!)\n",
    "import wget\n",
    "import zipfile\n",
    "import numpy as np\n",
    "import pandas as pd\n",
    "import matplotlib as mpl\n",
    "import matplotlib.pyplot as plt\n",
    "from matplotlib.patches import Polygon\n",
    "from matplotlib.collections import PatchCollection\n",
    "from mpl_toolkits.basemap import Basemap\n",
    "\n",
    "# File locations\n",
    "tmp_directory = 'temp'\n",
    "data_url = 'http://api.worldbank.org/v2/en/indicator/AG.LND.FRST.ZS?downloadformat=csv'\n",
    "data_file = tmp_directory + '/' + 'API_AG.LND.FRST.ZS_DS2_en_csv_v2.csv'\n",
    "\n",
    "# Download data file in zip format\n",
    "data_file_zip = wget.download(data_url, out=tmp_directory)\n",
    "\n",
    "# Unzip zipped data file\n",
    "zip_ref = zipfile.ZipFile(data_file_zip, 'r')\n",
    "zip_ref.extractall(tmp_directory)\n",
    "zip_ref.close()\n",
    "\n",
    "# Read data (note that we will only use the 2012 data)\n",
    "year = '2012'\n",
    "df = pd.read_csv(data_file, skiprows=4, usecols=['Country Name', 'Country Code', year], index_col='Country Code')"
   ]
  },
  {
   "cell_type": "code",
   "execution_count": null,
   "metadata": {
    "collapsed": true
   },
   "outputs": [],
   "source": [
    "# Inspect the data\n",
    "df.head()"
   ]
  },
  {
   "cell_type": "markdown",
   "metadata": {},
   "source": [
    "### Obtaining the shapefile with country borders\n",
    "\n",
    "We also need a shapefile with country borders to draw the mapping. We used the Admin 0 - Countries with lakes from Natural Earth Data: http://www.naturalearthdata.com/downloads/10m-cultural-vectors/"
   ]
  },
  {
   "cell_type": "code",
   "execution_count": null,
   "metadata": {
    "collapsed": true
   },
   "outputs": [],
   "source": [
    "# File locations\n",
    "shapefile_url = 'http://www.naturalearthdata.com/http//www.naturalearthdata.com/download/10m/cultural/ne_10m_admin_0_countries.zip'\n",
    "shapefile_file = tmp_directory + '/' + 'ne_10m_admin_0_countries'\n",
    "\n",
    "# Download data file in zip format\n",
    "shapefile_zip = wget.download(shapefile_url, out=tmp_directory)\n",
    "\n",
    "# Unzip zipped data file\n",
    "zip_ref = zipfile.ZipFile(shapefile_zip, 'r')\n",
    "zip_ref.extractall(tmp_directory)\n",
    "zip_ref.close()"
   ]
  },
  {
   "cell_type": "markdown",
   "metadata": {},
   "source": [
    "### Adding a color scheme to the data\n",
    "\n",
    "In the following code cell we manually add a color scheme to the data in the following way:\n",
    "\n",
    "    - adding a bin column to the dataframe \n",
    "    - creating a color scheme of 9 different saturations from the green palette\n",
    "    - mapping the forest data to the 9 color bins \n",
    "    - dropping rows that have NaN values"
   ]
  },
  {
   "cell_type": "code",
   "execution_count": null,
   "metadata": {
    "collapsed": true
   },
   "outputs": [],
   "source": [
    "# Number of bins for colors to plot\n",
    "num_colors = 9\n",
    "\n",
    "values = df[year]\n",
    "cm = plt.get_cmap('Greens')\n",
    "scheme = [cm(i / num_colors) for i in range(num_colors)]\n",
    "bins = np.linspace(values.min(), values.max(), num_colors)\n",
    "df['bin'] = np.digitize(values, bins) - 1\n",
    "\n",
    "df.dropna(inplace=True)\n",
    "df.sort_values('bin', ascending=False).head(10)"
   ]
  },
  {
   "cell_type": "markdown",
   "metadata": {},
   "source": [
    "### Visualizing the country data on a world map\n",
    "\n",
    "** Needed information: ** \n",
    "\n",
    "- The 'ADM0_A3' information corresponds to the 'Country Code' in the GDP data and which we need to specifiy the color based on the corresponding bin data. \n",
    "\n",
    "- The coloring is generated using the `PatchCollection` in `matplotlib`."
   ]
  },
  {
   "cell_type": "code",
   "execution_count": null,
   "metadata": {
    "collapsed": true
   },
   "outputs": [],
   "source": [
    "fig = plt.figure(figsize=(22, 12))\n",
    "\n",
    "ax = fig.add_subplot(111, axisbg='w', frame_on=False)\n",
    "fig.suptitle('Forest area as percentage of land area in {}'.format(year), fontsize=30, y=.95)\n",
    "\n",
    "m = Basemap(lon_0=0, projection='robin')\n",
    "m.drawmapboundary(color='w')\n",
    "\n",
    "# Connect the 'Country Code' in the World Bank dataset to the 'ADM0_A3' field in the shapefile\n",
    "m.readshapefile(shapefile_file, 'units', color='#444444', linewidth=.2)\n",
    "for info, shape in zip(m.units_info, m.units):\n",
    "    iso3 = info['ADM0_A3']\n",
    "    if iso3 not in df.index:\n",
    "        color = '#dddddd'\n",
    "    else:\n",
    "        color = scheme[df.ix[iso3]['bin']]\n",
    "\n",
    "    patches = [Polygon(np.array(shape), True)]\n",
    "    pc = PatchCollection(patches)\n",
    "    pc.set_facecolor(color)\n",
    "    ax.add_collection(pc)\n",
    "\n",
    "# Cover up Antarctica so legend can be placed over it\n",
    "ax.axhspan(0, 1000 * 1800, facecolor='w', edgecolor='w', zorder=2)\n",
    "\n",
    "# Draw color legend\n",
    "ax_legend = fig.add_axes([0.35, 0.14, 0.3, 0.03], zorder=3)\n",
    "cmap = mpl.colors.ListedColormap(scheme)\n",
    "cb = mpl.colorbar.ColorbarBase(ax_legend, cmap=cmap, ticks=bins, boundaries=bins, orientation='horizontal')\n",
    "cb.ax.set_xticklabels([str(round(i, 1)) for i in bins])\n",
    "\n",
    "# Set the map footer\n",
    "plt.annotate('Forest density per Country', xy=(-.8, -3.2), size=14, xycoords='axes fraction')\n",
    "\n",
    "plt.show()"
   ]
  },
  {
   "cell_type": "markdown",
   "metadata": {},
   "source": [
    "---\n",
    "\n",
    "# [optional/skip] I. Choropleth Exercise: Plotting  Global Development Indicators\n",
    "\n",
    "- Download Global Development Indicator data from the World Bank and plot GDP/capita for each country on the world map.\n",
    "    - Data description: http://data.worldbank.org/data-catalog/world-development-indicators\n",
    "    - Data file: http://databank.worldbank.org/data/download/WDI_csv.zip\n",
    "    \n",
    "Using the code cells below try to make a choropeth based on the GDP data. As in the example use bins to use coloring dependent on the GDP data for each country. \n",
    "\n",
    "Use the same shapefile as in the example (called `ne_10m_admin_0_countries`)."
   ]
  },
  {
   "cell_type": "markdown",
   "metadata": {},
   "source": [
    "## Data \n",
    "\n",
    "- upload the data using the code cell below, note that you need to change the location of the variable `datafile_WDI` specified to the location were this file is at your computer. \n",
    "- we specify from the whole csv file which columns and data is of our interest "
   ]
  },
  {
   "cell_type": "code",
   "execution_count": null,
   "metadata": {
    "collapsed": true
   },
   "outputs": [],
   "source": [
    "# Libraries\n",
    "import os.path\n",
    "import wget\n",
    "import zipfile\n",
    "import pandas as pd\n",
    "import numpy as np\n",
    "from mpl_toolkits.basemap import Basemap\n",
    "import matplotlib.pyplot as plt\n",
    "\n",
    "# File locations\n",
    "data_WDI_url = 'http://databank.worldbank.org/data/download/WDI_csv.zip'\n",
    "data_WDI_file = tmp_directory + '/' + 'WDIData.csv'\n",
    "\n",
    "# Check if datafile already exists\n",
    "if(not(os.path.exists(data_WDI_file))):\n",
    "    # Download data file in zip format, to tmp_directory\n",
    "    print(\"Downloading data from\", data_WDI_url, \"..\")\n",
    "    data_WDI_zip = wget.download(data_WDI_url, out=tmp_directory)\n",
    "    print(\"Data downloaded to\", data_WDI_zip)\n",
    "\n",
    "    # Unzip zipped data file, in tmp_directory\n",
    "    print(\"Extracting data file\", data_WDI_zip, \"..\")\n",
    "    zip_ref = zipfile.ZipFile(data_WDI_zip, 'r')\n",
    "    zip_ref.extractall(tmp_directory)\n",
    "    zip_ref.close()\n",
    "    print(\"Data extracted to\", tmp_directory)\n",
    "\n",
    "# Read data\n",
    "print(\"Reading data from\", data_WDI_file, \"..\")\n",
    "df_WDI = pd.read_csv(data_WDI_file)\n",
    "print(\"Data read from\", data_WDI_file)\n",
    "\n",
    "# Show data\n",
    "df_WDI.head()"
   ]
  },
  {
   "cell_type": "code",
   "execution_count": null,
   "metadata": {
    "collapsed": true
   },
   "outputs": [],
   "source": [
    "# Subset data (select indicator and year, subset and rename columns)\n",
    "selected_indicator = 'GDP per capita, PPP (current international $)'\n",
    "selected_year = '2014'\n",
    "\n",
    "df_WDI_selected = df_WDI.loc[\n",
    "    df_WDI['Indicator Name'] == selected_indicator, \n",
    "    ['Country Name', 'Country Code', selected_year]]\n",
    "df_WDI_selected = df_WDI_selected.dropna()\n",
    "new_indicator = selected_indicator + \", \" + selected_year\n",
    "df_WDI_selected.columns = ['Country Name', 'Country Code', 'GDP per capita']\n",
    "\n",
    "# Explore\n",
    "df_WDI_selected.head()"
   ]
  },
  {
   "cell_type": "code",
   "execution_count": null,
   "metadata": {
    "collapsed": true,
    "scrolled": true
   },
   "outputs": [],
   "source": [
    "from matplotlib.patches import Polygon\n",
    "from matplotlib.collections import PatchCollection\n",
    "\n",
    "num_colors = 9\n",
    "\n",
    "title = 'GDP data on world map'\n",
    "imgfile = 'GDP_world_map.png'\n",
    "description = 'GDA numbers'\n",
    "\n",
    "values = df_WDI_selected['GDP per capita']\n",
    "cm = plt.get_cmap('YlOrBr')\n",
    "scheme = [cm(i / num_colors) for i in range(num_colors)]\n",
    "bins = np.linspace(values.min(), values.max(), num_colors)\n",
    "df_WDI_selected['bin'] = np.digitize(values, bins) - 1\n",
    "df_WDI_selected.sort_values('bin', ascending=False).head(10)"
   ]
  },
  {
   "cell_type": "code",
   "execution_count": null,
   "metadata": {
    "collapsed": true
   },
   "outputs": [],
   "source": [
    "# Read info in a shapefile, so we can point the Country Code (index) data to the data in the shapefile"
   ]
  },
  {
   "cell_type": "code",
   "execution_count": null,
   "metadata": {
    "collapsed": true
   },
   "outputs": [],
   "source": [
    "# Insert your code here\n",
    "\n",
    "\n",
    "\n",
    "\n",
    "\n",
    "plt.show()"
   ]
  },
  {
   "cell_type": "markdown",
   "metadata": {},
   "source": [
    "# J. Summary\n",
    "\n",
    "In this notebook we worked with Basemap and learned about the following:\n",
    "\n",
    "- Mapping libraries\n",
    "    - Basemap\n",
    "    - Geopandas\n",
    "    - Plotly\n",
    "    - Gmplot\n",
    "- Basemap installation\n",
    "- Projections\n",
    "    - Equidistant Cylindrical\n",
    "    - Mercator\n",
    "    - Orthographic\n",
    "    - Robinson\n",
    "    - Mollweide\n",
    "- Initializing first map\n",
    "- Basic Basemap commands\n",
    "    - bluemarble()\n",
    "    - etopo()\n",
    "    - fillcontinents()\n",
    "    - drawcountries()\n",
    "    - drawstates()\n",
    "    - drawrivers()\n",
    "    - drawmapboundary()\n",
    "    - drawmeridians()\n",
    "    - drawparallels()\n",
    "    - warpimage()\n",
    "- Zooming in\n",
    "    - Increasing resolution\n",
    "- Points and markers\n",
    "    - Coordinate transformation\n",
    "    - Matplotlib markers\n",
    "    - Plotting multiple points\n",
    "    - Plotting lines and arcs\n",
    "- Shapefiles\n",
    "    - Mapping provinces\n",
    "    - Mapping municipalities\n",
    "- Choropleth example\n",
    "\n",
    "\n",
    "\n",
    "# K. Additional Resources\n",
    "\n",
    "\n",
    "## Documentation & examples\n",
    "\n",
    "- Basemap documentation: http://matplotlib.org/basemap/api/basemap_api.html\n",
    "- Basemap density plot (example using Uber dataset): https://www.kaggle.com/dotman/data-exploration-and-visualization\n",
    "- Shapefiles (wikipedia): https://en.wikipedia.org/wiki/Shapefile\n",
    "\n",
    "\n",
    "## Geo data sources\n",
    "\n",
    "- Natural Earth (10 m resolution geodata): http://www.naturalearthdata.com/downloads/10m-cultural-vectors\n",
    "- Global Administrative Areas (GADM): http://www.gadm.org/\n",
    "- Urban Data Atlas (European Environmental Agency): https://www.eea.europa.eu/data-and-maps/data/copernicus-land-monitoring-service-urban-atlas\n",
    "- Geodata Netherlands (Rijkswaterstaat): https://www.rijkswaterstaat.nl/apps/geoservices/geodata/dmc/\n",
    "\n",
    "\n",
    "\n",
    "## Other mapping libraries\n",
    "\n",
    "- Geopandas: http://geopandas.org\n",
    "- Gmplot: https://pypi.python.org/pypi/gmplot\n",
    "- Plotly: https://plot.ly\n",
    "\n",
    "For geopandas examples, see the `Example-Geopandas.ipynb` notebook in subdirectory `additional-notebooks`."
   ]
  }
 ],
 "metadata": {
  "anaconda-cloud": {},
  "hide_input": false,
  "kernelspec": {
   "display_name": "Python 3",
   "language": "python",
   "name": "python3"
  },
  "language_info": {
   "codemirror_mode": {
    "name": "ipython",
    "version": 3
   },
   "file_extension": ".py",
   "mimetype": "text/x-python",
   "name": "python",
   "nbconvert_exporter": "python",
   "pygments_lexer": "ipython3",
   "version": "3.7.3"
  },
  "varInspector": {
   "cols": {
    "lenName": 16,
    "lenType": 16,
    "lenVar": 40
   },
   "kernels_config": {
    "python": {
     "delete_cmd_postfix": "",
     "delete_cmd_prefix": "del ",
     "library": "var_list.py",
     "varRefreshCmd": "print(var_dic_list())"
    },
    "r": {
     "delete_cmd_postfix": ") ",
     "delete_cmd_prefix": "rm(",
     "library": "var_list.r",
     "varRefreshCmd": "cat(var_dic_list()) "
    }
   },
   "types_to_exclude": [
    "module",
    "function",
    "builtin_function_or_method",
    "instance",
    "_Feature"
   ],
   "window_display": false
  }
 },
 "nbformat": 4,
 "nbformat_minor": 2
}
