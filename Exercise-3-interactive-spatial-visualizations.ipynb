{
 "cells": [
  {
   "cell_type": "markdown",
   "metadata": {},
   "source": [
    "---\n",
    "\n",
    "<img src=\"./images/anchormen-logo.png\" width=\"500\">\n",
    "\n",
    "---"
   ]
  },
  {
   "cell_type": "markdown",
   "metadata": {},
   "source": [
    "# Exercise: Plotting Live Flight Data \n",
    "\n",
    "\n",
    "In this exercise we are going to use live flight data and use it to visualize the location of airplanes on an interactive map.\n",
    "\n",
    "**The first part that deals with data retrieval has been done already. Your task is to finish the visualization part.**\n",
    "\n",
    "\n",
    "## Data Source\n",
    "\n",
    "This script retrieves data from The OpenSky Network: https://opensky-network.org/\n",
    "\n",
    "The OpenSky Network has a free open-source API for real-time air traffic data. In its current version it allows users to retrieve live (and partially historical data). The data is retrieved by a network of ADS-B receivers and consists of\n",
    "\n",
    "- ICAO 24-bit transponder ID to identify the aircraft\n",
    "- the flight's callsign\n",
    "- aircraft's current location (latitude, longitude, altitude)\n",
    "- aircraft's current horizontal and vertical velocity plus heading\n",
    "- Unix timestamps which indicate the age of each field\n",
    "\n",
    "It's a REST API which provides all these data in JSON. They also provide simple Java and Python bindings.\n",
    "\n",
    "Their official API documentation can be found at: https://opensky-network.org/apidoc/\n",
    "\n",
    "The sources for the Java and Python bindings can be found on github: https://github.com/openskynetwork/opensky-api"
   ]
  },
  {
   "cell_type": "markdown",
   "metadata": {},
   "source": [
    "## Libraries"
   ]
  },
  {
   "cell_type": "code",
   "execution_count": 10,
   "metadata": {},
   "outputs": [],
   "source": [
    "import pandas as pd\n",
    "import numpy as np\n",
    "import datetime\n",
    "import matplotlib.pyplot as plt\n",
    "import geopandas as gpd\n",
    "import mplleaflet\n",
    "\n",
    "%matplotlib inline"
   ]
  },
  {
   "cell_type": "markdown",
   "metadata": {},
   "source": [
    "## Functions"
   ]
  },
  {
   "cell_type": "code",
   "execution_count": 3,
   "metadata": {},
   "outputs": [],
   "source": [
    "def unixtime_to_datetime(time):\n",
    "    if(np.isnan(time)):\n",
    "        return np.nan\n",
    "    else:\n",
    "        return(datetime.datetime.fromtimestamp(time))\n",
    "\n",
    "def clean_opensky_dataframe(df):\n",
    "    # Create variables from 'states' list\n",
    "    df['icao24'] = df.apply(lambda row: row.states[0], axis=1)\n",
    "    df['callsign'] = df.apply(lambda row: row.states[1], axis=1)\n",
    "    df['origin_country'] = df.apply(lambda row: row.states[2], axis=1)\n",
    "    df['time_position'] = df.apply(lambda row: row.states[3], axis=1)\n",
    "    df['time_velocity'] = df.apply(lambda row: row.states[4], axis=1)\n",
    "    df['longitude'] = df.apply(lambda row: row.states[5], axis=1)\n",
    "    df['latitude'] = df.apply(lambda row: row.states[6], axis=1)\n",
    "    df['altitude'] = df.apply(lambda row: row.states[7], axis=1)\n",
    "    df['on_ground'] = df.apply(lambda row: row.states[8], axis=1)\n",
    "    df['velocity'] = df.apply(lambda row: row.states[9], axis=1)\n",
    "    df['heading'] = df.apply(lambda row: row.states[10], axis=1)\n",
    "    df['vertical_rate'] = df.apply(lambda row: row.states[11], axis=1)\n",
    "    df['sensors'] = df.apply(lambda row: row.states[12], axis=1)\n",
    "\n",
    "    # Drop 'states'\n",
    "    df.drop('states', axis=1, inplace=True)\n",
    "\n",
    "    # Convert timestamps\n",
    "    df['time'] = df['time'].apply(unixtime_to_datetime)\n",
    "    df['time_position'] = df['time_position'].apply(unixtime_to_datetime)\n",
    "    df['time_velocity'] = df['time_velocity'].apply(unixtime_to_datetime)\n",
    "    \n",
    "    # Remove entries with unknown longitude or latitude\n",
    "    df = df.dropna(subset=['longitude', 'latitude'])\n",
    "    \n",
    "    return(df)"
   ]
  },
  {
   "cell_type": "markdown",
   "metadata": {},
   "source": [
    "## Retrieve Data from REST API\n",
    "\n",
    "See documentation: https://opensky-network.org/apidoc/rest.html"
   ]
  },
  {
   "cell_type": "code",
   "execution_count": 8,
   "metadata": {},
   "outputs": [],
   "source": [
    "# Read from OpenSky API\n",
    "df_airplanes = pd.read_json(\"https://opensky-network.org/api/states/all\")\n",
    "\n",
    "# Clean dataframe\n",
    "df_airplanes = clean_opensky_dataframe(df_airplanes)"
   ]
  },
  {
   "cell_type": "markdown",
   "metadata": {},
   "source": [
    "## Explore dataset"
   ]
  },
  {
   "cell_type": "code",
   "execution_count": null,
   "metadata": {},
   "outputs": [],
   "source": []
  },
  {
   "cell_type": "markdown",
   "metadata": {},
   "source": [
    "## Visualization: plot airplanes on an interactive leaflet background\n",
    "\n",
    "Can you figure out how to plot the airplane locations on a (zoomable) leaflet background?\n",
    "\n",
    "*Hint: First set the axes, then plot the airplane locations, followed by an mplleaflet command*\n",
    "\n",
    "Notes:\n",
    "- *With too many datapoints, mpleaflet may not work properly. Reduce the number of datapoints if necessary, or use mplleaflet.show() instead of mplleaflet.display()*\n",
    "- *Also note that mplleaflet does not respond well to missing coordinates.*"
   ]
  },
  {
   "cell_type": "code",
   "execution_count": 47,
   "metadata": {},
   "outputs": [],
   "source": [
    "# TO DO"
   ]
  },
  {
   "cell_type": "markdown",
   "metadata": {},
   "source": [
    "## Single function to obtain and visualize airplane location data\n",
    "\n",
    "- Now write a single function that loads the (live) airplane location data and plots them on an interactive background"
   ]
  },
  {
   "cell_type": "code",
   "execution_count": 43,
   "metadata": {},
   "outputs": [],
   "source": [
    "# TO DO"
   ]
  },
  {
   "cell_type": "markdown",
   "metadata": {},
   "source": [
    "## Optional: Improve your visualization as you wish\n",
    "\n",
    "- For example: zooming in on The Netherlands and removing other airplanes\n",
    "- Giving airplanes different colors\n",
    "- Check out Folium for interactive maps (instead of mplleaflet)!\n",
    "- Check with your neighbor how he/she has done the assignment"
   ]
  }
 ],
 "metadata": {
  "anaconda-cloud": {},
  "hide_input": false,
  "kernelspec": {
   "display_name": "Python 3",
   "language": "python",
   "name": "python3"
  },
  "language_info": {
   "codemirror_mode": {
    "name": "ipython",
    "version": 3
   },
   "file_extension": ".py",
   "mimetype": "text/x-python",
   "name": "python",
   "nbconvert_exporter": "python",
   "pygments_lexer": "ipython3",
   "version": "3.7.3"
  },
  "varInspector": {
   "cols": {
    "lenName": 16,
    "lenType": 16,
    "lenVar": 40
   },
   "kernels_config": {
    "python": {
     "delete_cmd_postfix": "",
     "delete_cmd_prefix": "del ",
     "library": "var_list.py",
     "varRefreshCmd": "print(var_dic_list())"
    },
    "r": {
     "delete_cmd_postfix": ") ",
     "delete_cmd_prefix": "rm(",
     "library": "var_list.r",
     "varRefreshCmd": "cat(var_dic_list()) "
    }
   },
   "types_to_exclude": [
    "module",
    "function",
    "builtin_function_or_method",
    "instance",
    "_Feature"
   ],
   "window_display": false
  }
 },
 "nbformat": 4,
 "nbformat_minor": 2
}
