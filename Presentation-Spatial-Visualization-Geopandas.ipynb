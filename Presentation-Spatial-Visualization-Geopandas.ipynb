{
 "cells": [
  {
   "cell_type": "markdown",
   "metadata": {
    "slideshow": {
     "slide_type": "slide"
    }
   },
   "source": [
    "---\n",
    "\n",
    "<img src=\"./images/anchormen-logo.png\" width=\"500\">\n",
    "\n",
    "---\n",
    "\n",
    "# Spatial Visualization using geopandas\n",
    "\n",
    "<img src=\"./images/choropleth_map_world.png\" width=\"1000\">"
   ]
  },
  {
   "cell_type": "markdown",
   "metadata": {
    "slideshow": {
     "slide_type": "notes"
    }
   },
   "source": [
    "*Note: This notebook can be viewed as an interactive slideshow using the RISE library*\n",
    "\n",
    "- RISE: https://github.com/damianavila/RISE\n",
    "- 4 minute video tutorial: https://www.youtube.com/watch?v=sXyFa_r1nxA"
   ]
  },
  {
   "cell_type": "markdown",
   "metadata": {
    "slideshow": {
     "slide_type": "subslide"
    }
   },
   "source": [
    "## Contents\n",
    "\n",
    "- A. Mapping libraries overview\n",
    "- B. Geopandas overview\n",
    "- C. Mapping example\n",
    "- D. Choropleth maps\n",
    "    - Exercise\n",
    "- E. Working with Shapefiles\n",
    "    - Exercise\n",
    "- F. Interactive visualizations\n",
    "    - Exercise\n",
    "- G. Summary & Additional Resources\n",
    "    - Optional: satellite data demo"
   ]
  },
  {
   "cell_type": "markdown",
   "metadata": {
    "slideshow": {
     "slide_type": "slide"
    }
   },
   "source": [
    "# Introduction"
   ]
  },
  {
   "cell_type": "markdown",
   "metadata": {
    "slideshow": {
     "slide_type": "subslide"
    }
   },
   "source": [
    "### Power of maps\n",
    "- Cholerage Outbreak 1854, Soho, Londen. Mapped by John Show.\n",
    "- Outbreak caused by a water pump: cholera does not spread by air, but via water.\n",
    "\n",
    "\n",
    "<img src=\"./images/cholera_outbreak_map.png\" width=\"800\">"
   ]
  },
  {
   "cell_type": "markdown",
   "metadata": {
    "slideshow": {
     "slide_type": "subslide"
    }
   },
   "source": [
    "### Maps are projections \n",
    "- To enable visualization on a flat surface, the spherical globe needs to be projected on a flat surface in some way\n",
    "- All projections causes distortions, there is no one best projections, what is best depends on the applications.\n",
    "- The Mercator projection has been developed for martime purposes, it preserves angles, but distortes areas especially around the poles. (developed by Gerardus Mercator, introduced in 1569)\n",
    "\n",
    "<img src=\"./images/mercator_projection.jpg\" width=\"500\">"
   ]
  },
  {
   "cell_type": "markdown",
   "metadata": {
    "slideshow": {
     "slide_type": "subslide"
    }
   },
   "source": [
    "#### Example: mercator projection area distortion\n",
    "<img src=\"./images/greenland_africa_mercator_projection.png\" width=\"1000\">"
   ]
  },
  {
   "cell_type": "markdown",
   "metadata": {
    "slideshow": {
     "slide_type": "slide"
    }
   },
   "source": [
    "# A. Useful mapping libraries"
   ]
  },
  {
   "cell_type": "markdown",
   "metadata": {
    "slideshow": {
     "slide_type": "subslide"
    }
   },
   "source": [
    "- **Geopandas**\n",
    "    - `+` Lightweight, ties several libraries together: pandas, shapely, gdal, fiona, pyproj, rtree\n",
    "    - `+` Implements GeoDataFrame, GeoSeries objects\n",
    "    - `-` Some dependencies have been known to cause (OS dependent) issues"
   ]
  },
  {
   "cell_type": "markdown",
   "metadata": {
    "slideshow": {
     "slide_type": "notes"
    }
   },
   "source": [
    "Notes:\n",
    "- pandas: for data handling, supports DataFrames, Series\n",
    "- geos: Google Earth Overlay Server\n",
    "- shapely: supports geometries (points, lines, polygons) and geometric operations on them\n",
    "- gdal: Geospatial Data Abstraction Library, translator library for raster and vector geospatial data formats\n",
    "- fiona: read and write real-world data using multi-layered GIS formats (such as shapefiles)\n",
    "- pyproj: performs cartographic transformations and geodetic computations (projections)\n",
    "- rtree: advanced spatial indexing features (such as nearest neighbor search, intersection search, etc.)"
   ]
  },
  {
   "cell_type": "markdown",
   "metadata": {
    "slideshow": {
     "slide_type": "fragment"
    }
   },
   "source": [
    "- **Gmplot**\n",
    "    - `+` For quick plotting on google maps and generating interactive html\n",
    "    - `-` Not very extensive"
   ]
  },
  {
   "cell_type": "markdown",
   "metadata": {
    "slideshow": {
     "slide_type": "fragment"
    }
   },
   "source": [
    "- **Plotly**\n",
    "    - `+` For interactive plotting (not specifically spatial data)\n",
    "    - `-` Some features require online plotly or MapBox account"
   ]
  },
  {
   "cell_type": "markdown",
   "metadata": {
    "slideshow": {
     "slide_type": "subslide"
    }
   },
   "source": [
    "- **Bokeh**\n",
    "    - `+` For interactive plotting (not specifically spatial data)\n",
    "    - `+` Supports interactive handlers (such as drop-down menus)\n",
    "    - `-` Bit more complicated (runs local Bokeh server)"
   ]
  },
  {
   "cell_type": "markdown",
   "metadata": {
    "slideshow": {
     "slide_type": "fragment"
    }
   },
   "source": [
    "- **mplleaflet**\n",
    "    - `+` Converts Matplotlib plots into Leaflet web maps, with OpenStreetMap background\n",
    "    - `+` Easy to use\n",
    "    - `+` Interactive\n",
    "    - `-` Doesn't scale well"
   ]
  },
  {
   "cell_type": "markdown",
   "metadata": {
    "slideshow": {
     "slide_type": "fragment"
    }
   },
   "source": [
    "- **Folium**\n",
    "    - `+` Converts Matplotlib plots into Leaflet web maps, with OpenStreetMap background\n",
    "    - `+` Easy to use\n",
    "    - `+` Interactive\n",
    "    - `-` Doesn't scale well"
   ]
  },
  {
   "cell_type": "markdown",
   "metadata": {
    "slideshow": {
     "slide_type": "subslide"
    }
   },
   "source": [
    "- **Basemap**\n",
    "    - `+` Powerful library\n",
    "    - `+` Extensive projections\n",
    "    - `+` Easy plotting coastlines, countries, rivers, backgrounds, etc\n",
    "    - `+` Adjusting plotting granularity\n",
    "    - `-` Bit harder to install (on Windows)\n",
    "    - `-` Can be slow for some plots\n",
    "    - `-` Harder to plot chloropleth maps"
   ]
  },
  {
   "cell_type": "markdown",
   "metadata": {
    "heading_collapsed": true,
    "slideshow": {
     "slide_type": "subslide"
    }
   },
   "source": [
    "## Today's Focus\n",
    "\n",
    "- Mostly `geopandas` and some `mplleaflet` for interactivity\n",
    "- Optionally: `Folium`, some useful API's"
   ]
  },
  {
   "cell_type": "markdown",
   "metadata": {
    "slideshow": {
     "slide_type": "slide"
    }
   },
   "source": [
    "# B. Geopandas Introduction"
   ]
  },
  {
   "cell_type": "markdown",
   "metadata": {
    "slideshow": {
     "slide_type": "subslide"
    }
   },
   "source": [
    "## Info Sources\n",
    "\n",
    "- Geopandas documentation: http://geopandas.org"
   ]
  },
  {
   "cell_type": "markdown",
   "metadata": {
    "slideshow": {
     "slide_type": "subslide"
    }
   },
   "source": [
    "## Data Structures\n",
    "\n",
    "`geopandas` implements two main data structures:\n",
    "\n",
    "- **GeoSeries**\n",
    "- **GeoDataFrame**\n",
    "\n",
    "These are subclasses of `pandas` Series and DataFrame, respectively."
   ]
  },
  {
   "cell_type": "markdown",
   "metadata": {
    "slideshow": {
     "slide_type": "fragment"
    }
   },
   "source": [
    "`geopandas` has three basic classes of geometric objects:\n",
    "\n",
    "- **Points** (or multi-points)\n",
    "- **Lines** (or multi-lines)\n",
    "- **Polygons** (or multi-polygons)\n",
    "\n",
    "These are actually `shapely` objects"
   ]
  },
  {
   "cell_type": "markdown",
   "metadata": {
    "slideshow": {
     "slide_type": "subslide"
    }
   },
   "source": [
    "## Geopandas features\n",
    "\n",
    "GeoSeries and GeoDataFrame support **all pandas operations** (such as slicing, sampling, merging, etc).\n",
    "\n",
    "On top of that `geopandas` supports:\n",
    "\n",
    "- Reading, writing spatial data (Shapefiles)\n",
    "- Standard datasets: world map, cities dataset\n",
    "- Slicing, selecting spatial data\n",
    "- Plotting maps\n",
    "- Handling projections\n",
    "- Distances between objects\n",
    "- Spatial joins\n",
    "- Geometric manipulations: centroid, boundary, convex_hull, rotate, scale, etc"
   ]
  },
  {
   "cell_type": "markdown",
   "metadata": {
    "slideshow": {
     "slide_type": "subslide"
    }
   },
   "source": [
    "## Installation\n",
    "\n",
    "To install the released version, you can use pip:\n",
    "\n",
    "    pip install geopandas\n",
    "\n",
    "or you can install the conda package from the conda-forge channel:\n",
    "\n",
    "    conda install -c conda-forge geopandas\n",
    "\n",
    "[See http://geopandas.org/install.html]"
   ]
  },
  {
   "cell_type": "markdown",
   "metadata": {
    "slideshow": {
     "slide_type": "slide"
    }
   },
   "source": [
    "# C. Mapping example"
   ]
  },
  {
   "cell_type": "markdown",
   "metadata": {
    "slideshow": {
     "slide_type": "subslide"
    }
   },
   "source": [
    "## Libraries and settings"
   ]
  },
  {
   "cell_type": "code",
   "execution_count": null,
   "metadata": {
    "ExecuteTime": {
     "end_time": "2019-09-13T10:56:04.258359Z",
     "start_time": "2019-09-13T10:56:03.715219Z"
    },
    "slideshow": {
     "slide_type": "fragment"
    }
   },
   "outputs": [],
   "source": [
    "# Libraries\n",
    "import matplotlib.pyplot as plt\n",
    "import pandas as pd\n",
    "import geopandas as gpd\n",
    "\n",
    "# Settings\n",
    "%matplotlib inline\n",
    "pd.options.mode.chained_assignment = None"
   ]
  },
  {
   "cell_type": "markdown",
   "metadata": {
    "slideshow": {
     "slide_type": "subslide"
    }
   },
   "source": [
    "## Standard datasets in geopandas"
   ]
  },
  {
   "cell_type": "code",
   "execution_count": null,
   "metadata": {
    "ExecuteTime": {
     "end_time": "2019-09-13T10:56:04.264890Z",
     "start_time": "2019-09-13T10:56:04.260011Z"
    },
    "slideshow": {
     "slide_type": "fragment"
    }
   },
   "outputs": [],
   "source": [
    "# Check which standard datasets are available\n",
    "gpd.datasets.available"
   ]
  },
  {
   "cell_type": "code",
   "execution_count": null,
   "metadata": {
    "ExecuteTime": {
     "end_time": "2019-09-13T10:56:04.298067Z",
     "start_time": "2019-09-13T10:56:04.266592Z"
    },
    "slideshow": {
     "slide_type": "fragment"
    }
   },
   "outputs": [],
   "source": [
    "# Load datasets\n",
    "gdf_countries = gpd.read_file(gpd.datasets.get_path('naturalearth_lowres'))\n",
    "gdf_cities = gpd.read_file(gpd.datasets.get_path('naturalearth_cities'))"
   ]
  },
  {
   "cell_type": "code",
   "execution_count": null,
   "metadata": {
    "ExecuteTime": {
     "end_time": "2019-09-13T10:56:04.314527Z",
     "start_time": "2019-09-13T10:56:04.300263Z"
    },
    "slideshow": {
     "slide_type": "fragment"
    }
   },
   "outputs": [],
   "source": [
    "# View dataframe: countries\n",
    "gdf_countries.head(3)"
   ]
  },
  {
   "cell_type": "code",
   "execution_count": null,
   "metadata": {
    "ExecuteTime": {
     "end_time": "2019-09-13T10:56:04.320089Z",
     "start_time": "2019-09-13T10:56:04.316190Z"
    },
    "slideshow": {
     "slide_type": "fragment"
    }
   },
   "outputs": [],
   "source": [
    "# Note the geometry column containing the spatial data\n",
    "type(gdf_countries.geometry)"
   ]
  },
  {
   "cell_type": "code",
   "execution_count": null,
   "metadata": {
    "ExecuteTime": {
     "end_time": "2019-09-13T10:56:04.327173Z",
     "start_time": "2019-09-13T10:56:04.321318Z"
    },
    "slideshow": {
     "slide_type": "fragment"
    }
   },
   "outputs": [],
   "source": [
    "# View dataframe: cities\n",
    "gdf_cities.head(3)"
   ]
  },
  {
   "cell_type": "markdown",
   "metadata": {
    "slideshow": {
     "slide_type": "subslide"
    }
   },
   "source": [
    "## Create simple spatial plot"
   ]
  },
  {
   "cell_type": "code",
   "execution_count": null,
   "metadata": {
    "ExecuteTime": {
     "end_time": "2019-09-13T10:56:04.552566Z",
     "start_time": "2019-09-13T10:56:04.328497Z"
    },
    "slideshow": {
     "slide_type": "fragment"
    }
   },
   "outputs": [],
   "source": [
    "# Plot and color by continent\n",
    "gdf_countries.plot();"
   ]
  },
  {
   "cell_type": "markdown",
   "metadata": {
    "slideshow": {
     "slide_type": "subslide"
    }
   },
   "source": [
    "## Configure axes"
   ]
  },
  {
   "cell_type": "code",
   "execution_count": null,
   "metadata": {
    "ExecuteTime": {
     "end_time": "2019-09-13T10:56:04.825223Z",
     "start_time": "2019-09-13T10:56:04.555018Z"
    },
    "slideshow": {
     "slide_type": "fragment"
    }
   },
   "outputs": [],
   "source": [
    "# Set axes\n",
    "fig, ax = plt.subplots(figsize=(12,12), subplot_kw={'aspect':'equal'})\n",
    "ax.set_axis_off()\n",
    "gdf_countries.plot(ax=ax, column='continent');"
   ]
  },
  {
   "cell_type": "markdown",
   "metadata": {
    "slideshow": {
     "slide_type": "subslide"
    }
   },
   "source": [
    "## Add cities"
   ]
  },
  {
   "cell_type": "code",
   "execution_count": null,
   "metadata": {
    "ExecuteTime": {
     "end_time": "2019-09-13T11:01:58.204416Z",
     "start_time": "2019-09-13T11:01:57.918884Z"
    },
    "slideshow": {
     "slide_type": "fragment"
    }
   },
   "outputs": [],
   "source": [
    "fig, ax = plt.subplots(figsize=(12,12), subplot_kw={'aspect':'equal'})\n",
    "ax.set_axis_off()\n",
    "gdf_countries.plot(ax=ax, column='continent')\n",
    "# Add cities on top of countries\n",
    "gdf_cities.plot(ax=ax, color='red', markersize=5);"
   ]
  },
  {
   "cell_type": "markdown",
   "metadata": {
    "slideshow": {
     "slide_type": "subslide"
    }
   },
   "source": [
    "## Annotate with country labels"
   ]
  },
  {
   "cell_type": "code",
   "execution_count": null,
   "metadata": {
    "ExecuteTime": {
     "end_time": "2019-09-13T11:01:53.999865Z",
     "start_time": "2019-09-13T11:01:53.114069Z"
    },
    "slideshow": {
     "slide_type": "fragment"
    }
   },
   "outputs": [],
   "source": [
    "fig, ax = plt.subplots(figsize=(12,12), subplot_kw={'aspect':'equal'})\n",
    "ax.set_axis_off()\n",
    "gdf_countries.plot(ax=ax, column='continent');\n",
    "gdf_cities.plot(ax=ax, color='red', markersize=5)\n",
    "# Add country labels\n",
    "gdf_countries.apply(\n",
    "    lambda x: ax.annotate(s=x.iso_a3, xy=x.geometry.centroid.coords[0], ha='center', size=3), \n",
    "    axis=1);"
   ]
  },
  {
   "cell_type": "markdown",
   "metadata": {
    "slideshow": {
     "slide_type": "slide"
    }
   },
   "source": [
    "# D. Choropleth Maps"
   ]
  },
  {
   "cell_type": "markdown",
   "metadata": {
    "slideshow": {
     "slide_type": "subslide"
    }
   },
   "source": [
    "## Choropleth map\n",
    "\n",
    "A choropleth map (from Greek χῶρος (\"area/region\") + πλῆθος (\"multitude\")) is a thematic map in which areas are shaded or patterned in proportion to the measurement of the statistical variable being displayed on the map, such as population density or per-capita income. [Source: https://en.wikipedia.org/wiki/Choropleth_map]\n",
    "\n",
    "<img src=\"./images/australian_demographics_christianity_anglican_persons.png\" width=\"500\">"
   ]
  },
  {
   "cell_type": "markdown",
   "metadata": {
    "slideshow": {
     "slide_type": "subslide"
    }
   },
   "source": [
    "## Example data: GDP per capita"
   ]
  },
  {
   "cell_type": "code",
   "execution_count": null,
   "metadata": {
    "ExecuteTime": {
     "end_time": "2019-09-13T10:56:06.043501Z",
     "start_time": "2019-09-13T10:56:06.035515Z"
    },
    "slideshow": {
     "slide_type": "fragment"
    }
   },
   "outputs": [],
   "source": [
    "# Calculate GDP per Capita for all countries with nonzero population estimate and exluding Antarctica\n",
    "gdf_countries_selected = gdf_countries[(gdf_countries.pop_est > 0) & (gdf_countries.name != \"Antarctica\")]\n",
    "gdf_countries_selected['gdp_per_cap'] = gdf_countries_selected.gdp_md_est / gdf_countries_selected.pop_est * 1000000"
   ]
  },
  {
   "cell_type": "code",
   "execution_count": null,
   "metadata": {
    "ExecuteTime": {
     "end_time": "2019-09-13T10:56:06.058249Z",
     "start_time": "2019-09-13T10:56:06.045117Z"
    },
    "slideshow": {
     "slide_type": "fragment"
    }
   },
   "outputs": [],
   "source": [
    "# Check dataframe, enriched with gdp_per_cap\n",
    "gdf_countries_selected.head(3)"
   ]
  },
  {
   "cell_type": "markdown",
   "metadata": {
    "slideshow": {
     "slide_type": "subslide"
    }
   },
   "source": [
    "## Create Plot"
   ]
  },
  {
   "cell_type": "code",
   "execution_count": null,
   "metadata": {
    "ExecuteTime": {
     "end_time": "2019-09-13T10:56:06.363350Z",
     "start_time": "2019-09-13T10:56:06.060051Z"
    },
    "slideshow": {
     "slide_type": "fragment"
    }
   },
   "outputs": [],
   "source": [
    "# Plot (requires PySal, to be installed using 'conda install pysal')\n",
    "fig, ax = plt.subplots(figsize=(16,6), subplot_kw={'aspect':'equal'})\n",
    "ax.set_axis_off()\n",
    "gdf_countries_selected.plot(column='gdp_per_cap', cmap='RdYlBu', legend=True, ax=ax);"
   ]
  },
  {
   "cell_type": "markdown",
   "metadata": {
    "slideshow": {
     "slide_type": "subslide"
    }
   },
   "source": [
    "## Colormaps\n",
    "\n",
    "Matplotlib supports a long list of color maps: https://matplotlib.org/users/colormaps.html\n",
    "\n",
    "For a complete list, use the `colormaps()` method in `pyplot`"
   ]
  },
  {
   "cell_type": "code",
   "execution_count": null,
   "metadata": {
    "ExecuteTime": {
     "end_time": "2019-09-13T10:56:06.369626Z",
     "start_time": "2019-09-13T10:56:06.364761Z"
    },
    "slideshow": {
     "slide_type": "fragment"
    }
   },
   "outputs": [],
   "source": [
    "# Available colormaps\n",
    "plt.colormaps()"
   ]
  },
  {
   "cell_type": "markdown",
   "metadata": {
    "slideshow": {
     "slide_type": "subslide"
    }
   },
   "source": [
    "## Exercise: creating choropleth maps\n",
    "\n",
    "See notebook: `Exercise-1-choropleth-maps.ipynb`"
   ]
  },
  {
   "cell_type": "markdown",
   "metadata": {
    "slideshow": {
     "slide_type": "slide"
    }
   },
   "source": [
    "# E. Working with Shapefiles "
   ]
  },
  {
   "cell_type": "markdown",
   "metadata": {
    "slideshow": {
     "slide_type": "subslide"
    }
   },
   "source": [
    "## What are Shapefiles?"
   ]
  },
  {
   "cell_type": "markdown",
   "metadata": {
    "slideshow": {
     "slide_type": "fragment"
    }
   },
   "source": [
    "In the field of geographical visualization a lot of data is stored as `shapefiles`. Shapefile is a vector data format that stores features such as **points**, **lines** and **polygons**, which can represent roads, rivers, municipality borders etc."
   ]
  },
  {
   "cell_type": "markdown",
   "metadata": {
    "slideshow": {
     "slide_type": "fragment"
    }
   },
   "source": [
    "A shapefile is not just a single file as the name suggests, but contains a **collection of files** with a common filename prefix, stored in the same directory!"
   ]
  },
  {
   "cell_type": "markdown",
   "metadata": {
    "slideshow": {
     "slide_type": "subslide"
    }
   },
   "source": [
    "A shapefile has **3 mandatory files**, with the following extensions:\n",
    "\n",
    "- **`.shp`** — shape format; the **feature geometry itself**\n",
    "- **`.shx`** — shape index format; a positional index of the feature geometry to allow seeking forwards and backwards quickly\n",
    "- **`.dbf`** — attribute format; columnar attributes for each shape\n",
    "\n",
    "There are also several optional files in the shapefile format. The most significant of these is the **`.prj`** file which describes the **coordinate system** and **projection** information used."
   ]
  },
  {
   "cell_type": "markdown",
   "metadata": {
    "slideshow": {
     "slide_type": "subslide"
    }
   },
   "source": [
    "## Urban mapping example: the city of Utrecht"
   ]
  },
  {
   "cell_type": "markdown",
   "metadata": {
    "slideshow": {
     "slide_type": "fragment"
    }
   },
   "source": [
    "### Data source\n",
    "\n",
    "We manually downloaded a detailed shapefile from **Urban Atlas**: https://www.eea.europa.eu/data-and-maps/data/urban-atlas/\n",
    "\n",
    "Urban Atlas provides pan-European comparable land use and land cover data for Large Urban Zones."
   ]
  },
  {
   "cell_type": "markdown",
   "metadata": {
    "slideshow": {
     "slide_type": "subslide"
    }
   },
   "source": [
    "### Reading shapefile"
   ]
  },
  {
   "cell_type": "code",
   "execution_count": null,
   "metadata": {
    "ExecuteTime": {
     "end_time": "2019-09-13T10:56:07.212125Z",
     "start_time": "2019-09-13T10:56:06.371190Z"
    },
    "slideshow": {
     "slide_type": "fragment"
    }
   },
   "outputs": [],
   "source": [
    "# Read shapefile\n",
    "gdf_urban = gpd.read_file('./geodata/nl004l_utrecht/nl004l_utrecht.shp')"
   ]
  },
  {
   "cell_type": "code",
   "execution_count": null,
   "metadata": {
    "ExecuteTime": {
     "end_time": "2019-09-13T10:56:07.216699Z",
     "start_time": "2019-09-13T10:56:07.213516Z"
    },
    "slideshow": {
     "slide_type": "fragment"
    }
   },
   "outputs": [],
   "source": [
    "# Check geodataframe\n",
    "type(gdf_urban)"
   ]
  },
  {
   "cell_type": "code",
   "execution_count": null,
   "metadata": {
    "ExecuteTime": {
     "end_time": "2019-09-13T10:56:07.229737Z",
     "start_time": "2019-09-13T10:56:07.218517Z"
    },
    "slideshow": {
     "slide_type": "fragment"
    }
   },
   "outputs": [],
   "source": [
    "# Check contents\n",
    "gdf_urban.head(3)"
   ]
  },
  {
   "cell_type": "markdown",
   "metadata": {
    "slideshow": {
     "slide_type": "subslide"
    }
   },
   "source": [
    "### Some preprocessing (for quicker plotting)"
   ]
  },
  {
   "cell_type": "code",
   "execution_count": null,
   "metadata": {
    "ExecuteTime": {
     "end_time": "2019-09-13T10:56:07.268597Z",
     "start_time": "2019-09-13T10:56:07.231106Z"
    },
    "slideshow": {
     "slide_type": "fragment"
    }
   },
   "outputs": [],
   "source": [
    "# Select subset of data (for quicker plotting)\n",
    "gdf_urban = gdf_urban[(gdf_urban.geometry.area > 100000)]\n",
    "gdf_urban = gdf_urban[gdf_urban['ITEM'] != \"Other roads and associated land\"]\n",
    "\n",
    "# Size of data_selected\n",
    "print(gdf_urban.shape)"
   ]
  },
  {
   "cell_type": "markdown",
   "metadata": {
    "slideshow": {
     "slide_type": "subslide"
    }
   },
   "source": [
    "## Visualizing the shapefile contents"
   ]
  },
  {
   "cell_type": "code",
   "execution_count": null,
   "metadata": {
    "ExecuteTime": {
     "end_time": "2019-09-13T10:56:07.990777Z",
     "start_time": "2019-09-13T10:56:07.269948Z"
    },
    "slideshow": {
     "slide_type": "fragment"
    }
   },
   "outputs": [],
   "source": [
    "# Plot shapes with coloring based on 'ITEM' column\n",
    "fig, ax = plt.subplots(figsize=(14,14), subplot_kw={'aspect':'equal'})\n",
    "gdf_urban.plot(column='ITEM', ax=ax);"
   ]
  },
  {
   "cell_type": "markdown",
   "metadata": {
    "slideshow": {
     "slide_type": "notes"
    }
   },
   "source": [
    "Optionally, zoom in to a rectangular area using the axis method in matplotlib.pyplot:\n",
    "```\n",
    "fig, ax = plt.subplots(figsize=(14,14), subplot_kw={'aspect':'equal'})\n",
    "gdf_urban.plot(column='ITEM', ax=ax);\n",
    "plt.axis((3980000,4000000,3220000,3240000))\n",
    "plt.show()\n",
    "```"
   ]
  },
  {
   "cell_type": "markdown",
   "metadata": {
    "slideshow": {
     "slide_type": "subslide"
    }
   },
   "source": [
    "## Exercise: working with shapefiles\n",
    "\n",
    "See notebook: Exercise-2-shapefiles"
   ]
  },
  {
   "cell_type": "markdown",
   "metadata": {
    "slideshow": {
     "slide_type": "slide"
    }
   },
   "source": [
    "# F. Interactive visualizations"
   ]
  },
  {
   "cell_type": "markdown",
   "metadata": {
    "slideshow": {
     "slide_type": "subslide"
    }
   },
   "source": [
    "## Mplleaflet"
   ]
  },
  {
   "cell_type": "markdown",
   "metadata": {
    "slideshow": {
     "slide_type": "fragment"
    }
   },
   "source": [
    "A Python library for creating **interactive, zoomable plots** on top of an **OpenStreetMap** layer, in a simple way\n",
    "\n",
    "More info: https://github.com/jwass/mplleaflet"
   ]
  },
  {
   "cell_type": "markdown",
   "metadata": {
    "slideshow": {
     "slide_type": "fragment"
    }
   },
   "source": [
    "### Installation\n",
    "\n",
    "    pip install mplleaflet"
   ]
  },
  {
   "cell_type": "markdown",
   "metadata": {
    "slideshow": {
     "slide_type": "subslide"
    }
   },
   "source": [
    "## Example: Roads in The Netherlands"
   ]
  },
  {
   "cell_type": "markdown",
   "metadata": {
    "slideshow": {
     "slide_type": "fragment"
    }
   },
   "source": [
    "### Data\n",
    "\n",
    "Let's have a look at a shapefile that contains all major roads in The Netherlands.\n",
    "\n",
    "This shapefile has been downloaded from **Rijkswaterstaat**, the government office responsible for all Dutch roads, waterways, etc.\n",
    "\n",
    "**Data source**: https://www.rijkswaterstaat.nl/apps/geoservices/geodata/dmc/nwb-wegen/geogegevens/shapefile/"
   ]
  },
  {
   "cell_type": "markdown",
   "metadata": {
    "slideshow": {
     "slide_type": "subslide"
    }
   },
   "source": [
    "### Load shapefile with roads"
   ]
  },
  {
   "cell_type": "code",
   "execution_count": null,
   "metadata": {
    "ExecuteTime": {
     "end_time": "2019-09-13T10:56:08.050059Z",
     "start_time": "2019-09-13T10:56:07.992528Z"
    },
    "slideshow": {
     "slide_type": "fragment"
    }
   },
   "outputs": [],
   "source": [
    "# Load shapefile\n",
    "#gdf_roads = gpd.read_file('./geodata/NWB-Light/nwb-light.shp')\n",
    "gdf_roads = gpd.read_file(\"./geodata/NWB-Light-converted/nwb-light.shp\")"
   ]
  },
  {
   "cell_type": "code",
   "execution_count": null,
   "metadata": {
    "ExecuteTime": {
     "end_time": "2019-09-13T10:56:08.061897Z",
     "start_time": "2019-09-13T10:56:08.051381Z"
    },
    "slideshow": {
     "slide_type": "fragment"
    }
   },
   "outputs": [],
   "source": [
    "# Check contents: every line seems to contain a road\n",
    "gdf_roads.head()"
   ]
  },
  {
   "cell_type": "markdown",
   "metadata": {
    "slideshow": {
     "slide_type": "subslide"
    }
   },
   "source": [
    "### Plot roads (non-interactively first)"
   ]
  },
  {
   "cell_type": "code",
   "execution_count": null,
   "metadata": {
    "ExecuteTime": {
     "end_time": "2019-09-13T10:56:08.463798Z",
     "start_time": "2019-09-13T10:56:08.063134Z"
    },
    "slideshow": {
     "slide_type": "fragment"
    }
   },
   "outputs": [],
   "source": [
    "# Plot\n",
    "fig, ax = plt.subplots(figsize=(10,10), subplot_kw={'aspect':'equal'})\n",
    "gdf_roads.plot(column='ROUTE', legend=False, ax=ax);"
   ]
  },
  {
   "cell_type": "markdown",
   "metadata": {
    "slideshow": {
     "slide_type": "subslide"
    }
   },
   "source": [
    "### Some preprocessing"
   ]
  },
  {
   "cell_type": "code",
   "execution_count": null,
   "metadata": {
    "ExecuteTime": {
     "end_time": "2019-09-13T10:56:08.471569Z",
     "start_time": "2019-09-13T10:56:08.467653Z"
    },
    "slideshow": {
     "slide_type": "fragment"
    }
   },
   "outputs": [],
   "source": [
    "# Filter highways only (ROUTE starting with a number)\n",
    "gdf_highways = gdf_roads[gdf_roads.ROUTE.str.match('^[0-9]')]"
   ]
  },
  {
   "cell_type": "code",
   "execution_count": null,
   "metadata": {
    "ExecuteTime": {
     "end_time": "2019-09-13T10:56:08.484374Z",
     "start_time": "2019-09-13T10:56:08.473768Z"
    }
   },
   "outputs": [],
   "source": [
    "gdf_highways.head()"
   ]
  },
  {
   "cell_type": "markdown",
   "metadata": {
    "slideshow": {
     "slide_type": "subslide"
    }
   },
   "source": [
    "## Making the map interactive"
   ]
  },
  {
   "cell_type": "code",
   "execution_count": null,
   "metadata": {
    "ExecuteTime": {
     "end_time": "2019-09-13T11:07:49.446043Z",
     "start_time": "2019-09-13T11:07:49.055838Z"
    },
    "slideshow": {
     "slide_type": "fragment"
    }
   },
   "outputs": [],
   "source": [
    "# Libraries\n",
    "import mplleaflet\n",
    "\n",
    "# Convert to standard coordinate reference system (i.e. EPSG:4326 = WGS-84)\n",
    "#gdf_highways_converted = gdf_highways.to_crs({'init': 'epsg:4326'})\n",
    "\n",
    "# Interactive visualization\n",
    "fig, ax = plt.subplots(figsize=(10,10), subplot_kw={'aspect':'equal'})\n",
    "plot = gdf_highways.plot(color='red', ax=ax)\n",
    "mplleaflet.display(fig=plot.figure)"
   ]
  },
  {
   "cell_type": "markdown",
   "metadata": {
    "slideshow": {
     "slide_type": "subslide"
    }
   },
   "source": [
    "## Caveat\n",
    "\n",
    "For **large numbers of datapoints** mplleaflet is observed to have issues displaying them inline in a Jupyter Notebook."
   ]
  },
  {
   "cell_type": "markdown",
   "metadata": {
    "slideshow": {
     "slide_type": "fragment"
    }
   },
   "source": [
    "## Tip\n",
    "\n",
    "An alternative would be to **export** the rendered map to an **interactive html file**, use `mplleaflet.show()` instead of `mplleaflet.display()`"
   ]
  },
  {
   "cell_type": "code",
   "execution_count": null,
   "metadata": {
    "ExecuteTime": {
     "end_time": "2019-09-13T11:08:36.352633Z",
     "start_time": "2019-09-13T11:08:35.894712Z"
    },
    "slideshow": {
     "slide_type": "fragment"
    }
   },
   "outputs": [],
   "source": [
    "# Interactive visualization, exported to html file\n",
    "fig, ax = plt.subplots(figsize=(10,10), subplot_kw={'aspect':'equal'})\n",
    "plot = gdf_highways.plot(color='red', ax=ax)\n",
    "mplleaflet.show(fig=plot.figure)"
   ]
  },
  {
   "cell_type": "markdown",
   "metadata": {
    "slideshow": {
     "slide_type": "subslide"
    }
   },
   "source": [
    "## A short note on dealing with coordinate systems\n",
    "\n",
    "- Note that the coordinates of the previous were not in degrees longitude/latitude. Instead, they use the Dutch coordinate system of 'Rijksdriehoekcoordinaten'.\n",
    "- `mplleaflet` can display different coordinate systems, by specifying them using the `crs` parameter (we observed issues in certain library versions though):\n",
    "\n",
    "    `mplleaflet.display(fig, crs={'init': 'epsg:28992'})`"
   ]
  },
  {
   "cell_type": "markdown",
   "metadata": {
    "slideshow": {
     "slide_type": "fragment"
    }
   },
   "source": [
    "- `geopandas` handles coordinate systems as follows:\n",
    "    - Getting coordinate system: `gdf.crs`\n",
    "    - Setting coordinate system: `gdf.to_crs()`"
   ]
  },
  {
   "cell_type": "code",
   "execution_count": null,
   "metadata": {
    "ExecuteTime": {
     "end_time": "2019-09-13T10:56:09.535276Z",
     "start_time": "2019-09-13T10:56:09.527931Z"
    },
    "slideshow": {
     "slide_type": "notes"
    }
   },
   "outputs": [],
   "source": [
    "# Get coordinate system (in this case custom defined)\n",
    "gdf_highways.crs"
   ]
  },
  {
   "cell_type": "code",
   "execution_count": null,
   "metadata": {
    "ExecuteTime": {
     "end_time": "2019-09-13T10:56:09.717435Z",
     "start_time": "2019-09-13T10:56:09.537508Z"
    },
    "slideshow": {
     "slide_type": "notes"
    }
   },
   "outputs": [],
   "source": [
    "# Changing coordinate system\n",
    "gdf_highways.to_crs({'init': 'epsg:3395'}).head(3)"
   ]
  },
  {
   "cell_type": "markdown",
   "metadata": {
    "slideshow": {
     "slide_type": "fragment"
    }
   },
   "source": [
    "**More info**:\n",
    "\n",
    "- List of coordinate systems: https://epsg.io\n",
    "- Rijksdriehoekscoordinaten: https://nl.wikipedia.org/wiki/Rijksdriehoeksco%C3%B6rdinaten"
   ]
  },
  {
   "cell_type": "markdown",
   "metadata": {
    "slideshow": {
     "slide_type": "subslide"
    }
   },
   "source": [
    "## Exercise: interactive spatial visualizations\n",
    "\n",
    "See notebook: `Exercise-3-interactive-spatial-visualizations.ipynb`"
   ]
  },
  {
   "cell_type": "markdown",
   "metadata": {
    "slideshow": {
     "slide_type": "fragment"
    }
   },
   "source": [
    "## Optional Exercise\n",
    "\n",
    "See notebook: `Exercise-OPTIONAL-interactive-visualization-with-shapefile.ipynb`"
   ]
  },
  {
   "cell_type": "markdown",
   "metadata": {
    "slideshow": {
     "slide_type": "slide"
    }
   },
   "source": [
    "# G. Optional: Demos"
   ]
  },
  {
   "cell_type": "markdown",
   "metadata": {
    "slideshow": {
     "slide_type": "subslide"
    }
   },
   "source": [
    "## Demo: Useful Functionality\n",
    "\n",
    "- OpenStreetMap API\n",
    "- Folium visualization\n",
    "- More examples\n",
    "\n",
    "See Demo notebook"
   ]
  },
  {
   "cell_type": "markdown",
   "metadata": {
    "slideshow": {
     "slide_type": "subslide"
    }
   },
   "source": [
    "## Demo: Working with Satellite Data\n",
    "\n",
    "- Google Earth Engine API\n",
    "\n",
    "See `additional-notebooks/Satellite-data-google-earth-engine.ipynb`"
   ]
  },
  {
   "cell_type": "markdown",
   "metadata": {
    "slideshow": {
     "slide_type": "slide"
    }
   },
   "source": [
    "# H. Summary & Additional Resources"
   ]
  },
  {
   "cell_type": "markdown",
   "metadata": {
    "slideshow": {
     "slide_type": "subslide"
    }
   },
   "source": [
    "## Summary\n",
    "\n",
    "In this lesson we learned about the following topics:\n",
    "\n",
    "- **Mapping libraries overview**: geopandas, gmplot, plotly, folium, basemap\n",
    "- **Geopandas basics**: data structures, basic features, installation\n",
    "- **Mapping example**: standard datasets, creating spatial plots, adding points, labels\n",
    "- **Choropleth maps**: how to create them, how to use different colormaps\n",
    "- **Shapefiles**: their structure; how to obtain, load, preprocess and visualize shapefiles\n",
    "- **Interactive maps**: using mplleaflet, folium, dealing with coordinate systems"
   ]
  },
  {
   "cell_type": "markdown",
   "metadata": {
    "slideshow": {
     "slide_type": "subslide"
    }
   },
   "source": [
    "All in all, we saw that `geopandas` is a very useful library for handling and visualizing geospatial data. Combined with the `mplleaflet` library it is possible to create nice interactive (zoomable) visualizations on top of OpenStreetMap maps.\n",
    "\n",
    "Optionally, in the extra demo's we learned about extracting `OpenStreetMap` features, `Folium`, and working with Satellite Data using the `Google Earth Engine` API."
   ]
  },
  {
   "cell_type": "markdown",
   "metadata": {
    "slideshow": {
     "slide_type": "subslide"
    }
   },
   "source": [
    "## Additional resources\n",
    "\n",
    "- Geopandas documentation: http://geopandas.org/\n",
    "- Geopandas example: https://gist.github.com/jorisvandenbossche/7b30ed43366a85af8626\n",
    "- Geopandas video: https://www.youtube.com/watch?v=bWsA2R707BM\n",
    "- Mplleaflet: https://github.com/jwass/mplleaflet\n",
    "- Folium: https://python-visualization.github.io/folium\n",
    "- Shapefiles (wikipedia): https://en.wikipedia.org/wiki/Shapefile\n",
    "- Coordinate systems: https://epsg.io\n",
    "- OpenStreetMap API: https://pypi.org/project/osmxtract/\n",
    "- Google Earth Engine API: https://developers.google.com/earth-engine/python_install"
   ]
  },
  {
   "cell_type": "markdown",
   "metadata": {
    "slideshow": {
     "slide_type": "subslide"
    }
   },
   "source": [
    "## Geo data sources\n",
    "\n",
    "- Natural Earth (10 m resolution geodata): http://www.naturalearthdata.com/downloads/10m-cultural-vectors\n",
    "- Global Administrative Areas (GADM): http://www.gadm.org/\n",
    "- Urban Data Atlas (European Environmental Agency): https://www.eea.europa.eu/data-and-maps/data/copernicus-land-monitoring-service-urban-atlas\n",
    "- Geodata Netherlands (Rijkswaterstaat): https://www.rijkswaterstaat.nl/apps/geoservices/geodata/dmc/"
   ]
  },
  {
   "cell_type": "markdown",
   "metadata": {
    "slideshow": {
     "slide_type": "slide"
    }
   },
   "source": [
    "---\n",
    "\n",
    "<img src=\"./images/anchormen-logo.png\" width=\"500\">\n",
    "\n",
    "---\n",
    "\n",
    "# Thank you for your attention!"
   ]
  }
 ],
 "metadata": {
  "anaconda-cloud": {},
  "celltoolbar": "Slideshow",
  "hide_input": false,
  "kernelspec": {
   "display_name": "Python 3",
   "language": "python",
   "name": "python3"
  },
  "language_info": {
   "codemirror_mode": {
    "name": "ipython",
    "version": 3
   },
   "file_extension": ".py",
   "mimetype": "text/x-python",
   "name": "python",
   "nbconvert_exporter": "python",
   "pygments_lexer": "ipython3",
   "version": "3.7.3"
  },
  "varInspector": {
   "cols": {
    "lenName": 16,
    "lenType": 16,
    "lenVar": 40
   },
   "kernels_config": {
    "python": {
     "delete_cmd_postfix": "",
     "delete_cmd_prefix": "del ",
     "library": "var_list.py",
     "varRefreshCmd": "print(var_dic_list())"
    },
    "r": {
     "delete_cmd_postfix": ") ",
     "delete_cmd_prefix": "rm(",
     "library": "var_list.r",
     "varRefreshCmd": "cat(var_dic_list()) "
    }
   },
   "types_to_exclude": [
    "module",
    "function",
    "builtin_function_or_method",
    "instance",
    "_Feature"
   ],
   "window_display": false
  }
 },
 "nbformat": 4,
 "nbformat_minor": 2
}
