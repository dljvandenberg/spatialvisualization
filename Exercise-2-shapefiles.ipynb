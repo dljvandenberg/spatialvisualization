{
 "cells": [
  {
   "cell_type": "markdown",
   "metadata": {},
   "source": [
    "---\n",
    "\n",
    "<img src=\"./images/anchormen-logo.png\" width=\"500\">\n",
    "\n",
    "---\n",
    "\n",
    "\n",
    "# Exercise: working with shapefiles\n",
    "\n",
    "\n",
    "Tip: For parts of this exercise it may be useful to have a look at the geopandas, pandas or matplotlib documentation\n",
    "\n",
    "- geopandas: http://geopandas.org\n",
    "- pandas: https://pandas.pydata.org\n",
    "- matplotlib: https://matplotlib.org/"
   ]
  },
  {
   "cell_type": "markdown",
   "metadata": {},
   "source": [
    "## Libraries & settings\n",
    "\n",
    "- Don't forget the `%matplotlib inline` setting"
   ]
  },
  {
   "cell_type": "code",
   "execution_count": null,
   "metadata": {},
   "outputs": [],
   "source": [
    "# TO DO"
   ]
  },
  {
   "cell_type": "markdown",
   "metadata": {},
   "source": [
    "## Obtaining your shapefile\n",
    "\n",
    "- Manually download a detailed shapefile from **Urban Atlas**: https://www.eea.europa.eu/data-and-maps/data/urban-atlas/\n",
    "- Choose a city of your liking\n",
    "- Unzip it in a location from where you can easily load it"
   ]
  },
  {
   "cell_type": "markdown",
   "metadata": {},
   "source": [
    "## Load the shapefile\n",
    "\n",
    "- Can you recognize the contents of the unzipped directory?\n",
    "- Which file is most important for loading the data into geopandas?"
   ]
  },
  {
   "cell_type": "code",
   "execution_count": null,
   "metadata": {},
   "outputs": [],
   "source": [
    "# TO DO"
   ]
  },
  {
   "cell_type": "markdown",
   "metadata": {},
   "source": [
    "## Explore the data\n",
    "\n",
    "- What is the meaning of one entry?\n",
    "- What geometries does it contain?\n",
    "- Which types of items have most entries in this dataset?"
   ]
  },
  {
   "cell_type": "code",
   "execution_count": null,
   "metadata": {},
   "outputs": [],
   "source": [
    "# TO DO"
   ]
  },
  {
   "cell_type": "markdown",
   "metadata": {},
   "source": [
    "## Preprocessing\n",
    "\n",
    "- Create a smaller dataset that only the types of items that you are interested in (such as airports, railways, main roads, water bodies, green urban areas, etc.)\n",
    "- How many entries does your new dataset contain?"
   ]
  },
  {
   "cell_type": "code",
   "execution_count": null,
   "metadata": {},
   "outputs": [],
   "source": [
    "# TO DO"
   ]
  },
  {
   "cell_type": "markdown",
   "metadata": {},
   "source": [
    "## Create a spatial plot\n",
    "\n",
    "- In your spatial plot, color the areas by item type\n",
    "- Modify the plot to your own wishes (adding legend, title, etc.)"
   ]
  },
  {
   "cell_type": "code",
   "execution_count": null,
   "metadata": {},
   "outputs": [],
   "source": [
    "# TO DO"
   ]
  },
  {
   "cell_type": "markdown",
   "metadata": {},
   "source": [
    "## Export your plot to an image file\n",
    "\n",
    "- Use a matplotlib command to export your image to a png file"
   ]
  },
  {
   "cell_type": "code",
   "execution_count": null,
   "metadata": {},
   "outputs": [],
   "source": [
    "# TO DO"
   ]
  },
  {
   "cell_type": "markdown",
   "metadata": {},
   "source": [
    "## Save the selected data to an output shapefile\n",
    "\n",
    "- What geopandas method do you need to use to write shapefiles?\n",
    "- Write the geodataframe to an output shapefile with an easily recognizable name\n",
    "- Inspect the output files that are written to your filesystem"
   ]
  },
  {
   "cell_type": "code",
   "execution_count": null,
   "metadata": {},
   "outputs": [],
   "source": [
    "# TO DO"
   ]
  },
  {
   "cell_type": "markdown",
   "metadata": {},
   "source": [
    "## Optional: Zoom in on part of the map\n",
    "\n",
    "- You could use `plt.xlim` and `plt.ylim` for this, as available in `matplotlib` (or alternatively, slice the geodataframe before you plot it)"
   ]
  },
  {
   "cell_type": "code",
   "execution_count": null,
   "metadata": {},
   "outputs": [],
   "source": [
    "# TO DO"
   ]
  },
  {
   "cell_type": "markdown",
   "metadata": {},
   "source": [
    "## Bonus: Plot buffers around items\n",
    "\n",
    "- Can you figure out how to plot a buffer zone around all waterways?\n",
    "\n",
    "*Hint: Use the `.buffer()` method on a GeoSeries that contains all waterways (or rather, its `.unary_union`)*"
   ]
  },
  {
   "cell_type": "code",
   "execution_count": null,
   "metadata": {},
   "outputs": [],
   "source": [
    "# TO DO"
   ]
  },
  {
   "cell_type": "markdown",
   "metadata": {},
   "source": [
    "## If you have time left: check with your fellow students how they did the exercise\n",
    "\n",
    "Nice work! Now have a look at what your fellow students did."
   ]
  }
 ],
 "metadata": {
  "anaconda-cloud": {},
  "hide_input": false,
  "kernelspec": {
   "display_name": "Python 3",
   "language": "python",
   "name": "python3"
  },
  "language_info": {
   "codemirror_mode": {
    "name": "ipython",
    "version": 3
   },
   "file_extension": ".py",
   "mimetype": "text/x-python",
   "name": "python",
   "nbconvert_exporter": "python",
   "pygments_lexer": "ipython3",
   "version": "3.7.3"
  },
  "varInspector": {
   "cols": {
    "lenName": 16,
    "lenType": 16,
    "lenVar": 40
   },
   "kernels_config": {
    "python": {
     "delete_cmd_postfix": "",
     "delete_cmd_prefix": "del ",
     "library": "var_list.py",
     "varRefreshCmd": "print(var_dic_list())"
    },
    "r": {
     "delete_cmd_postfix": ") ",
     "delete_cmd_prefix": "rm(",
     "library": "var_list.r",
     "varRefreshCmd": "cat(var_dic_list()) "
    }
   },
   "types_to_exclude": [
    "module",
    "function",
    "builtin_function_or_method",
    "instance",
    "_Feature"
   ],
   "window_display": false
  }
 },
 "nbformat": 4,
 "nbformat_minor": 2
}
